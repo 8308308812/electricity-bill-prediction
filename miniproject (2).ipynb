{
 "cells": [
  {
   "cell_type": "code",
   "execution_count": 3,
   "id": "a4efedfc-1dde-4886-877b-28c8658a58c3",
   "metadata": {},
   "outputs": [],
   "source": [
    "import numpy as np\n",
    "import pandas as pd\n",
    "from sklearn.model_selection import train_test_split\n",
    "from sklearn.preprocessing import StandardScaler\n",
    "from sklearn.preprocessing import LabelEncoder\n",
    "import matplotlib.pyplot as plt"
   ]
  },
  {
   "cell_type": "code",
   "execution_count": 4,
   "id": "11a5f93f-b8fe-400c-a6b5-6ad178879caf",
   "metadata": {},
   "outputs": [],
   "source": [
    "\n",
    "from sklearn.linear_model import LinearRegression\n",
    "from sklearn.tree import DecisionTreeRegressor\n",
    "from sklearn.ensemble import RandomForestRegressor\n",
    "from sklearn.svm import SVR\n",
    "from sklearn.neighbors import KNeighborsRegressor\n",
    "from sklearn.metrics import r2_score,mean_squared_error"
   ]
  },
  {
   "cell_type": "code",
   "execution_count": 5,
   "id": "9e0c36b6-9637-46b9-b85e-d152ed643ec5",
   "metadata": {},
   "outputs": [],
   "source": [
    "data=pd.read_csv('electricity_bill_dataset.csv')"
   ]
  },
  {
   "cell_type": "code",
   "execution_count": 6,
   "id": "b7548d72-b012-4b81-880c-3fff4f810b0b",
   "metadata": {},
   "outputs": [
    {
     "data": {
      "text/html": [
       "<div>\n",
       "<style scoped>\n",
       "    .dataframe tbody tr th:only-of-type {\n",
       "        vertical-align: middle;\n",
       "    }\n",
       "\n",
       "    .dataframe tbody tr th {\n",
       "        vertical-align: top;\n",
       "    }\n",
       "\n",
       "    .dataframe thead th {\n",
       "        text-align: right;\n",
       "    }\n",
       "</style>\n",
       "<table border=\"1\" class=\"dataframe\">\n",
       "  <thead>\n",
       "    <tr style=\"text-align: right;\">\n",
       "      <th></th>\n",
       "      <th>Fan</th>\n",
       "      <th>Refrigerator</th>\n",
       "      <th>AirConditioner</th>\n",
       "      <th>Television</th>\n",
       "      <th>Monitor</th>\n",
       "      <th>MotorPump</th>\n",
       "      <th>Month</th>\n",
       "      <th>City</th>\n",
       "      <th>Company</th>\n",
       "      <th>MonthlyHours</th>\n",
       "      <th>TariffRate</th>\n",
       "      <th>ElectricityBill</th>\n",
       "    </tr>\n",
       "  </thead>\n",
       "  <tbody>\n",
       "    <tr>\n",
       "      <th>0</th>\n",
       "      <td>16</td>\n",
       "      <td>23.0</td>\n",
       "      <td>2.0</td>\n",
       "      <td>6.0</td>\n",
       "      <td>1.0</td>\n",
       "      <td>0</td>\n",
       "      <td>10</td>\n",
       "      <td>Hyderabad</td>\n",
       "      <td>Tata Power Company Ltd.</td>\n",
       "      <td>384</td>\n",
       "      <td>8.4</td>\n",
       "      <td>3225.6</td>\n",
       "    </tr>\n",
       "    <tr>\n",
       "      <th>1</th>\n",
       "      <td>19</td>\n",
       "      <td>22.0</td>\n",
       "      <td>2.0</td>\n",
       "      <td>3.0</td>\n",
       "      <td>1.0</td>\n",
       "      <td>0</td>\n",
       "      <td>5</td>\n",
       "      <td>Vadodara</td>\n",
       "      <td>NHPC</td>\n",
       "      <td>488</td>\n",
       "      <td>7.8</td>\n",
       "      <td>3806.4</td>\n",
       "    </tr>\n",
       "    <tr>\n",
       "      <th>2</th>\n",
       "      <td>7</td>\n",
       "      <td>20.0</td>\n",
       "      <td>2.0</td>\n",
       "      <td>6.0</td>\n",
       "      <td>7.0</td>\n",
       "      <td>0</td>\n",
       "      <td>7</td>\n",
       "      <td>Shimla</td>\n",
       "      <td>Jyoti Structure</td>\n",
       "      <td>416</td>\n",
       "      <td>7.7</td>\n",
       "      <td>3203.2</td>\n",
       "    </tr>\n",
       "    <tr>\n",
       "      <th>3</th>\n",
       "      <td>7</td>\n",
       "      <td>22.0</td>\n",
       "      <td>3.0</td>\n",
       "      <td>21.0</td>\n",
       "      <td>1.0</td>\n",
       "      <td>0</td>\n",
       "      <td>6</td>\n",
       "      <td>Mumbai</td>\n",
       "      <td>Power Grid Corp</td>\n",
       "      <td>475</td>\n",
       "      <td>9.2</td>\n",
       "      <td>4370.0</td>\n",
       "    </tr>\n",
       "    <tr>\n",
       "      <th>4</th>\n",
       "      <td>11</td>\n",
       "      <td>23.0</td>\n",
       "      <td>2.0</td>\n",
       "      <td>11.0</td>\n",
       "      <td>1.0</td>\n",
       "      <td>0</td>\n",
       "      <td>2</td>\n",
       "      <td>Mumbai</td>\n",
       "      <td>Ratnagiri Gas and Power Pvt. Ltd. (RGPPL)</td>\n",
       "      <td>457</td>\n",
       "      <td>9.2</td>\n",
       "      <td>4204.4</td>\n",
       "    </tr>\n",
       "    <tr>\n",
       "      <th>...</th>\n",
       "      <td>...</td>\n",
       "      <td>...</td>\n",
       "      <td>...</td>\n",
       "      <td>...</td>\n",
       "      <td>...</td>\n",
       "      <td>...</td>\n",
       "      <td>...</td>\n",
       "      <td>...</td>\n",
       "      <td>...</td>\n",
       "      <td>...</td>\n",
       "      <td>...</td>\n",
       "      <td>...</td>\n",
       "    </tr>\n",
       "    <tr>\n",
       "      <th>45340</th>\n",
       "      <td>18</td>\n",
       "      <td>22.0</td>\n",
       "      <td>3.0</td>\n",
       "      <td>22.0</td>\n",
       "      <td>1.0</td>\n",
       "      <td>0</td>\n",
       "      <td>9</td>\n",
       "      <td>Ahmedabad</td>\n",
       "      <td>Maha Transco – Maharashtra State Electricity T...</td>\n",
       "      <td>764</td>\n",
       "      <td>7.9</td>\n",
       "      <td>6035.6</td>\n",
       "    </tr>\n",
       "    <tr>\n",
       "      <th>45341</th>\n",
       "      <td>23</td>\n",
       "      <td>23.0</td>\n",
       "      <td>2.0</td>\n",
       "      <td>6.0</td>\n",
       "      <td>12.0</td>\n",
       "      <td>0</td>\n",
       "      <td>2</td>\n",
       "      <td>New Delhi</td>\n",
       "      <td>Orient Green</td>\n",
       "      <td>572</td>\n",
       "      <td>8.5</td>\n",
       "      <td>4862.0</td>\n",
       "    </tr>\n",
       "    <tr>\n",
       "      <th>45342</th>\n",
       "      <td>22</td>\n",
       "      <td>22.0</td>\n",
       "      <td>2.0</td>\n",
       "      <td>20.0</td>\n",
       "      <td>1.0</td>\n",
       "      <td>0</td>\n",
       "      <td>1</td>\n",
       "      <td>New Delhi</td>\n",
       "      <td>GE T&amp;D India Limited</td>\n",
       "      <td>609</td>\n",
       "      <td>8.5</td>\n",
       "      <td>5176.5</td>\n",
       "    </tr>\n",
       "    <tr>\n",
       "      <th>45343</th>\n",
       "      <td>8</td>\n",
       "      <td>21.0</td>\n",
       "      <td>2.0</td>\n",
       "      <td>22.0</td>\n",
       "      <td>7.0</td>\n",
       "      <td>0</td>\n",
       "      <td>12</td>\n",
       "      <td>Ratnagiri</td>\n",
       "      <td>TransRail Lighting</td>\n",
       "      <td>748</td>\n",
       "      <td>7.4</td>\n",
       "      <td>5535.2</td>\n",
       "    </tr>\n",
       "    <tr>\n",
       "      <th>45344</th>\n",
       "      <td>8</td>\n",
       "      <td>17.0</td>\n",
       "      <td>2.0</td>\n",
       "      <td>4.0</td>\n",
       "      <td>1.0</td>\n",
       "      <td>0</td>\n",
       "      <td>1</td>\n",
       "      <td>Gurgaon</td>\n",
       "      <td>L&amp;T Transmission &amp; Distribution</td>\n",
       "      <td>427</td>\n",
       "      <td>8.3</td>\n",
       "      <td>3544.1</td>\n",
       "    </tr>\n",
       "  </tbody>\n",
       "</table>\n",
       "<p>45345 rows × 12 columns</p>\n",
       "</div>"
      ],
      "text/plain": [
       "       Fan  Refrigerator  AirConditioner  Television  Monitor  MotorPump  \\\n",
       "0       16          23.0             2.0         6.0      1.0          0   \n",
       "1       19          22.0             2.0         3.0      1.0          0   \n",
       "2        7          20.0             2.0         6.0      7.0          0   \n",
       "3        7          22.0             3.0        21.0      1.0          0   \n",
       "4       11          23.0             2.0        11.0      1.0          0   \n",
       "...    ...           ...             ...         ...      ...        ...   \n",
       "45340   18          22.0             3.0        22.0      1.0          0   \n",
       "45341   23          23.0             2.0         6.0     12.0          0   \n",
       "45342   22          22.0             2.0        20.0      1.0          0   \n",
       "45343    8          21.0             2.0        22.0      7.0          0   \n",
       "45344    8          17.0             2.0         4.0      1.0          0   \n",
       "\n",
       "       Month       City                                            Company  \\\n",
       "0         10  Hyderabad                            Tata Power Company Ltd.   \n",
       "1          5   Vadodara                                               NHPC   \n",
       "2          7     Shimla                                    Jyoti Structure   \n",
       "3          6     Mumbai                                    Power Grid Corp   \n",
       "4          2     Mumbai          Ratnagiri Gas and Power Pvt. Ltd. (RGPPL)   \n",
       "...      ...        ...                                                ...   \n",
       "45340      9  Ahmedabad  Maha Transco – Maharashtra State Electricity T...   \n",
       "45341      2  New Delhi                                       Orient Green   \n",
       "45342      1  New Delhi                               GE T&D India Limited   \n",
       "45343     12  Ratnagiri                                 TransRail Lighting   \n",
       "45344      1    Gurgaon                    L&T Transmission & Distribution   \n",
       "\n",
       "       MonthlyHours  TariffRate  ElectricityBill  \n",
       "0               384         8.4           3225.6  \n",
       "1               488         7.8           3806.4  \n",
       "2               416         7.7           3203.2  \n",
       "3               475         9.2           4370.0  \n",
       "4               457         9.2           4204.4  \n",
       "...             ...         ...              ...  \n",
       "45340           764         7.9           6035.6  \n",
       "45341           572         8.5           4862.0  \n",
       "45342           609         8.5           5176.5  \n",
       "45343           748         7.4           5535.2  \n",
       "45344           427         8.3           3544.1  \n",
       "\n",
       "[45345 rows x 12 columns]"
      ]
     },
     "execution_count": 6,
     "metadata": {},
     "output_type": "execute_result"
    }
   ],
   "source": [
    "data"
   ]
  },
  {
   "cell_type": "code",
   "execution_count": 7,
   "id": "85a2fd87-ecf5-4c4d-b5ec-546acc6b90ad",
   "metadata": {},
   "outputs": [
    {
     "data": {
      "text/plain": [
       "(45345, 12)"
      ]
     },
     "execution_count": 7,
     "metadata": {},
     "output_type": "execute_result"
    }
   ],
   "source": [
    "data.shape"
   ]
  },
  {
   "cell_type": "code",
   "execution_count": 8,
   "id": "740b334c-c857-4529-b909-df3247c7ec3a",
   "metadata": {},
   "outputs": [
    {
     "data": {
      "text/plain": [
       "array([384, 488, 416, 475, 457, 471, 755, 492, 546, 578, 450, 493, 565,\n",
       "       414, 594, 349, 355, 467, 646, 476, 659, 631, 395, 480, 678, 664,\n",
       "       515, 509, 679, 564, 412, 468, 452, 447, 361, 442, 307, 494, 699,\n",
       "       549, 385, 491, 636, 401, 360, 539, 577, 673, 443, 398, 653, 421,\n",
       "       650, 484, 737, 405, 458, 466, 456, 394, 263, 490, 533, 495, 399,\n",
       "       604, 512, 563, 496, 500, 502, 616, 589, 595, 487, 388, 437, 656,\n",
       "       300, 523, 561, 628, 560, 425, 632, 389, 576, 340, 417, 503, 588,\n",
       "       584, 771, 643, 552, 683, 436, 681, 668, 381, 544, 675, 665, 243,\n",
       "       735, 587, 287, 756, 460, 345, 545, 407, 519, 662, 302, 582, 346,\n",
       "       506, 373, 599, 422, 351, 569, 776, 696, 357, 325, 717, 419, 478,\n",
       "       548, 508, 299, 537, 473, 449, 618, 540, 530, 418, 406, 521, 666,\n",
       "       684, 528, 742, 768, 536, 472, 634, 438, 701, 462, 601, 408, 463,\n",
       "       602, 635, 726, 744, 410, 591, 596, 415, 526, 377, 376, 724, 707,\n",
       "       365, 308, 543, 455, 461, 633, 348, 623, 465, 371, 535, 513, 483,\n",
       "       370, 459, 617, 614, 556, 301, 527, 322, 712, 648, 504, 514, 741,\n",
       "       522, 420, 397, 640, 626, 749, 570, 719, 689, 802, 743, 600, 486,\n",
       "       267, 713, 383, 246, 424, 427, 568, 647, 474, 485, 426, 192, 403,\n",
       "       691, 518, 311, 369, 585, 615, 470, 608, 505, 622, 404, 706, 888,\n",
       "       557, 572, 542, 362, 658, 690, 553, 387, 341, 375, 610, 605, 432,\n",
       "       445, 276, 411, 218, 446, 477, 510, 451, 598, 253, 429, 558, 294,\n",
       "       254, 597, 331, 372, 607, 323, 236, 284, 641, 524, 629, 363, 396,\n",
       "       529, 454, 655, 228, 661, 611, 532, 638, 520, 685, 469, 590, 627,\n",
       "       501, 328, 660, 400, 722, 440, 613, 525, 280, 704, 733, 697, 567,\n",
       "       547, 534, 672, 227, 319, 531, 715, 350, 439, 482, 580, 298, 541,\n",
       "       356, 762, 700, 444, 517, 306, 838, 448, 619, 812, 464, 497, 431,\n",
       "       639, 789, 579, 593, 734, 703, 511, 352, 677, 663, 441, 367, 739,\n",
       "       382, 334, 709, 819, 603, 499, 686, 674, 481, 693, 274, 213, 727,\n",
       "       788, 344, 642, 489, 625, 645, 606, 586, 498, 884, 310, 816, 391,\n",
       "       364, 702, 386, 479, 273, 286, 710, 612, 714, 309, 669, 434, 721,\n",
       "       732, 562, 609, 676, 409, 281, 317, 551, 581, 507, 313, 747, 757,\n",
       "       575, 428, 566, 435, 366, 649, 353, 225, 752, 413, 175, 657, 326,\n",
       "       725, 314, 338, 571, 805, 573, 392, 337, 453, 257, 554, 201, 516,\n",
       "       187, 811, 695, 750, 278, 698, 692, 574, 393, 644, 651, 358, 423,\n",
       "       292, 705, 688, 671, 538, 583, 379, 296, 210, 621, 630, 799, 258,\n",
       "       730, 555, 332, 252, 297, 255, 368, 746, 670, 829, 753, 256, 268,\n",
       "       316, 814, 711, 754, 211, 320, 680, 288, 335, 736, 239, 343, 807,\n",
       "       231, 780, 687, 433, 374, 327, 550, 233, 652, 592, 321, 347, 378,\n",
       "       748, 206, 827, 251, 793, 716, 290, 682, 766, 380, 305, 390, 212,\n",
       "       775, 913, 275, 620, 303, 751, 559, 731, 624, 430, 216, 217, 333,\n",
       "       266, 318, 293, 654, 764, 295, 728, 354, 845, 795, 223, 637, 778,\n",
       "       126, 708, 839, 720, 339, 402, 336, 244, 792, 694, 269, 798, 779,\n",
       "       782, 324, 847, 230, 761, 208, 264, 740, 285, 803, 151, 277, 777,\n",
       "       359, 760, 283, 772, 330, 247, 876, 821, 248, 824, 329, 767, 282,\n",
       "       723, 822, 237, 312, 849, 166, 279, 315, 818, 260, 667, 144, 769,\n",
       "       289,  95, 234, 229, 241, 198, 786, 249, 214, 774, 759, 841, 240,\n",
       "       250, 844, 304, 189, 830, 791, 718, 178, 221, 794, 836, 823, 259,\n",
       "       158, 871, 783, 226, 810, 809, 265, 262, 729, 806, 773, 781, 785,\n",
       "       889, 222, 203, 205, 858, 219, 291, 926, 174, 272, 800, 738, 804,\n",
       "       758, 885, 177, 813, 745, 190, 242, 207, 852, 155, 195, 148, 865,\n",
       "       765, 162, 200, 907, 193, 835, 169, 877, 261, 840, 271, 156, 197,\n",
       "       342, 270, 202, 209, 763, 181, 245, 787, 185, 238, 820, 843, 828,\n",
       "       856, 224, 886, 161, 199, 235, 890, 868, 180, 196, 924, 854, 879,\n",
       "       846, 797, 131, 232, 832, 770, 168, 176, 194, 170, 160, 831, 825,\n",
       "       878, 873, 861, 784, 163, 908, 853, 883, 862, 808, 874, 215, 837,\n",
       "       875, 115, 892, 790, 899, 864, 182, 851, 188, 186, 817, 815, 796,\n",
       "       900, 910, 801, 826, 171, 204, 891, 220, 905, 833, 872, 882, 860,\n",
       "       191, 867, 184, 866, 881, 165, 842, 114, 898, 859, 870, 135, 143,\n",
       "       917, 893, 834, 153, 179, 894, 863], dtype=int64)"
      ]
     },
     "execution_count": 8,
     "metadata": {},
     "output_type": "execute_result"
    }
   ],
   "source": [
    "data['MonthlyHours'].unique()"
   ]
  },
  {
   "cell_type": "code",
   "execution_count": 9,
   "id": "0ef4c720-20cb-4750-a96a-762f2ce6a72f",
   "metadata": {},
   "outputs": [],
   "source": [
    "data= data.sample(n=10000, random_state=2)"
   ]
  },
  {
   "cell_type": "code",
   "execution_count": 10,
   "id": "161c1f0e-4220-4a24-8ee1-f3f4523fd4fd",
   "metadata": {},
   "outputs": [
    {
     "data": {
      "text/html": [
       "<div>\n",
       "<style scoped>\n",
       "    .dataframe tbody tr th:only-of-type {\n",
       "        vertical-align: middle;\n",
       "    }\n",
       "\n",
       "    .dataframe tbody tr th {\n",
       "        vertical-align: top;\n",
       "    }\n",
       "\n",
       "    .dataframe thead th {\n",
       "        text-align: right;\n",
       "    }\n",
       "</style>\n",
       "<table border=\"1\" class=\"dataframe\">\n",
       "  <thead>\n",
       "    <tr style=\"text-align: right;\">\n",
       "      <th></th>\n",
       "      <th>Fan</th>\n",
       "      <th>Refrigerator</th>\n",
       "      <th>AirConditioner</th>\n",
       "      <th>Television</th>\n",
       "      <th>Monitor</th>\n",
       "      <th>MotorPump</th>\n",
       "      <th>Month</th>\n",
       "      <th>City</th>\n",
       "      <th>Company</th>\n",
       "      <th>MonthlyHours</th>\n",
       "      <th>TariffRate</th>\n",
       "      <th>ElectricityBill</th>\n",
       "    </tr>\n",
       "  </thead>\n",
       "  <tbody>\n",
       "    <tr>\n",
       "      <th>33171</th>\n",
       "      <td>14</td>\n",
       "      <td>22.0</td>\n",
       "      <td>3.0</td>\n",
       "      <td>22.0</td>\n",
       "      <td>1.0</td>\n",
       "      <td>0</td>\n",
       "      <td>12</td>\n",
       "      <td>Faridabad</td>\n",
       "      <td>Sterlite Power Transmission Ltd</td>\n",
       "      <td>620</td>\n",
       "      <td>8.1</td>\n",
       "      <td>5022.0</td>\n",
       "    </tr>\n",
       "    <tr>\n",
       "      <th>44957</th>\n",
       "      <td>21</td>\n",
       "      <td>23.0</td>\n",
       "      <td>1.0</td>\n",
       "      <td>8.0</td>\n",
       "      <td>1.0</td>\n",
       "      <td>0</td>\n",
       "      <td>9</td>\n",
       "      <td>Ahmedabad</td>\n",
       "      <td>Sunil Hitech Eng</td>\n",
       "      <td>447</td>\n",
       "      <td>7.9</td>\n",
       "      <td>3531.3</td>\n",
       "    </tr>\n",
       "    <tr>\n",
       "      <th>33477</th>\n",
       "      <td>7</td>\n",
       "      <td>19.0</td>\n",
       "      <td>3.0</td>\n",
       "      <td>19.0</td>\n",
       "      <td>1.0</td>\n",
       "      <td>0</td>\n",
       "      <td>10</td>\n",
       "      <td>Hyderabad</td>\n",
       "      <td>Neueon Towers / Sujana Towers Ltd.</td>\n",
       "      <td>658</td>\n",
       "      <td>8.4</td>\n",
       "      <td>5527.2</td>\n",
       "    </tr>\n",
       "    <tr>\n",
       "      <th>19923</th>\n",
       "      <td>6</td>\n",
       "      <td>19.0</td>\n",
       "      <td>3.0</td>\n",
       "      <td>19.0</td>\n",
       "      <td>1.0</td>\n",
       "      <td>0</td>\n",
       "      <td>6</td>\n",
       "      <td>Dahej</td>\n",
       "      <td>Reliance Energy</td>\n",
       "      <td>409</td>\n",
       "      <td>7.6</td>\n",
       "      <td>3108.4</td>\n",
       "    </tr>\n",
       "    <tr>\n",
       "      <th>34199</th>\n",
       "      <td>8</td>\n",
       "      <td>20.0</td>\n",
       "      <td>2.0</td>\n",
       "      <td>11.0</td>\n",
       "      <td>1.0</td>\n",
       "      <td>0</td>\n",
       "      <td>12</td>\n",
       "      <td>Pune</td>\n",
       "      <td>Tata Power Company Ltd.</td>\n",
       "      <td>343</td>\n",
       "      <td>9.1</td>\n",
       "      <td>3121.3</td>\n",
       "    </tr>\n",
       "  </tbody>\n",
       "</table>\n",
       "</div>"
      ],
      "text/plain": [
       "       Fan  Refrigerator  AirConditioner  Television  Monitor  MotorPump  \\\n",
       "33171   14          22.0             3.0        22.0      1.0          0   \n",
       "44957   21          23.0             1.0         8.0      1.0          0   \n",
       "33477    7          19.0             3.0        19.0      1.0          0   \n",
       "19923    6          19.0             3.0        19.0      1.0          0   \n",
       "34199    8          20.0             2.0        11.0      1.0          0   \n",
       "\n",
       "       Month       City                             Company  MonthlyHours  \\\n",
       "33171     12  Faridabad     Sterlite Power Transmission Ltd           620   \n",
       "44957      9  Ahmedabad                    Sunil Hitech Eng           447   \n",
       "33477     10  Hyderabad  Neueon Towers / Sujana Towers Ltd.           658   \n",
       "19923      6      Dahej                     Reliance Energy           409   \n",
       "34199     12       Pune             Tata Power Company Ltd.           343   \n",
       "\n",
       "       TariffRate  ElectricityBill  \n",
       "33171         8.1           5022.0  \n",
       "44957         7.9           3531.3  \n",
       "33477         8.4           5527.2  \n",
       "19923         7.6           3108.4  \n",
       "34199         9.1           3121.3  "
      ]
     },
     "execution_count": 10,
     "metadata": {},
     "output_type": "execute_result"
    }
   ],
   "source": [
    "\n",
    "data.head()"
   ]
  },
  {
   "cell_type": "code",
   "execution_count": 11,
   "id": "2af9b3f4-2fef-4ee9-8748-3cdc8084df5e",
   "metadata": {},
   "outputs": [
    {
     "data": {
      "text/html": [
       "<div>\n",
       "<style scoped>\n",
       "    .dataframe tbody tr th:only-of-type {\n",
       "        vertical-align: middle;\n",
       "    }\n",
       "\n",
       "    .dataframe tbody tr th {\n",
       "        vertical-align: top;\n",
       "    }\n",
       "\n",
       "    .dataframe thead th {\n",
       "        text-align: right;\n",
       "    }\n",
       "</style>\n",
       "<table border=\"1\" class=\"dataframe\">\n",
       "  <thead>\n",
       "    <tr style=\"text-align: right;\">\n",
       "      <th></th>\n",
       "      <th>Fan</th>\n",
       "      <th>Refrigerator</th>\n",
       "      <th>AirConditioner</th>\n",
       "      <th>Television</th>\n",
       "      <th>Monitor</th>\n",
       "      <th>MotorPump</th>\n",
       "      <th>Month</th>\n",
       "      <th>City</th>\n",
       "      <th>Company</th>\n",
       "      <th>MonthlyHours</th>\n",
       "      <th>TariffRate</th>\n",
       "      <th>ElectricityBill</th>\n",
       "    </tr>\n",
       "  </thead>\n",
       "  <tbody>\n",
       "    <tr>\n",
       "      <th>38132</th>\n",
       "      <td>10</td>\n",
       "      <td>21.0</td>\n",
       "      <td>1.0</td>\n",
       "      <td>20.0</td>\n",
       "      <td>1.0</td>\n",
       "      <td>0</td>\n",
       "      <td>4</td>\n",
       "      <td>Chennai</td>\n",
       "      <td>Jaiprakash Power</td>\n",
       "      <td>596</td>\n",
       "      <td>8.8</td>\n",
       "      <td>5244.8</td>\n",
       "    </tr>\n",
       "    <tr>\n",
       "      <th>663</th>\n",
       "      <td>9</td>\n",
       "      <td>23.0</td>\n",
       "      <td>3.0</td>\n",
       "      <td>12.0</td>\n",
       "      <td>1.0</td>\n",
       "      <td>0</td>\n",
       "      <td>11</td>\n",
       "      <td>Chennai</td>\n",
       "      <td>Adani Power Ltd.</td>\n",
       "      <td>536</td>\n",
       "      <td>8.8</td>\n",
       "      <td>4716.8</td>\n",
       "    </tr>\n",
       "    <tr>\n",
       "      <th>19757</th>\n",
       "      <td>9</td>\n",
       "      <td>21.0</td>\n",
       "      <td>3.0</td>\n",
       "      <td>10.0</td>\n",
       "      <td>1.0</td>\n",
       "      <td>0</td>\n",
       "      <td>3</td>\n",
       "      <td>Faridabad</td>\n",
       "      <td>L&amp;T Transmission &amp; Distribution</td>\n",
       "      <td>356</td>\n",
       "      <td>8.1</td>\n",
       "      <td>2883.6</td>\n",
       "    </tr>\n",
       "    <tr>\n",
       "      <th>25415</th>\n",
       "      <td>12</td>\n",
       "      <td>22.0</td>\n",
       "      <td>2.0</td>\n",
       "      <td>7.0</td>\n",
       "      <td>1.0</td>\n",
       "      <td>0</td>\n",
       "      <td>8</td>\n",
       "      <td>Gurgaon</td>\n",
       "      <td>Ringfeder Power Transmission India Pvt. Ltd.</td>\n",
       "      <td>432</td>\n",
       "      <td>8.3</td>\n",
       "      <td>3585.6</td>\n",
       "    </tr>\n",
       "    <tr>\n",
       "      <th>37541</th>\n",
       "      <td>18</td>\n",
       "      <td>22.0</td>\n",
       "      <td>0.0</td>\n",
       "      <td>3.0</td>\n",
       "      <td>1.0</td>\n",
       "      <td>0</td>\n",
       "      <td>12</td>\n",
       "      <td>Mumbai</td>\n",
       "      <td>CESC</td>\n",
       "      <td>277</td>\n",
       "      <td>9.2</td>\n",
       "      <td>2548.4</td>\n",
       "    </tr>\n",
       "  </tbody>\n",
       "</table>\n",
       "</div>"
      ],
      "text/plain": [
       "       Fan  Refrigerator  AirConditioner  Television  Monitor  MotorPump  \\\n",
       "38132   10          21.0             1.0        20.0      1.0          0   \n",
       "663      9          23.0             3.0        12.0      1.0          0   \n",
       "19757    9          21.0             3.0        10.0      1.0          0   \n",
       "25415   12          22.0             2.0         7.0      1.0          0   \n",
       "37541   18          22.0             0.0         3.0      1.0          0   \n",
       "\n",
       "       Month       City                                       Company  \\\n",
       "38132      4    Chennai                              Jaiprakash Power   \n",
       "663       11    Chennai                              Adani Power Ltd.   \n",
       "19757      3  Faridabad               L&T Transmission & Distribution   \n",
       "25415      8    Gurgaon  Ringfeder Power Transmission India Pvt. Ltd.   \n",
       "37541     12     Mumbai                                          CESC   \n",
       "\n",
       "       MonthlyHours  TariffRate  ElectricityBill  \n",
       "38132           596         8.8           5244.8  \n",
       "663             536         8.8           4716.8  \n",
       "19757           356         8.1           2883.6  \n",
       "25415           432         8.3           3585.6  \n",
       "37541           277         9.2           2548.4  "
      ]
     },
     "execution_count": 11,
     "metadata": {},
     "output_type": "execute_result"
    }
   ],
   "source": [
    "data.tail()"
   ]
  },
  {
   "cell_type": "code",
   "execution_count": 12,
   "id": "490389ee-63a3-43a2-86a0-0ca0965d0874",
   "metadata": {},
   "outputs": [
    {
     "data": {
      "text/plain": [
       "1033.1999999999998"
      ]
     },
     "execution_count": 12,
     "metadata": {},
     "output_type": "execute_result"
    }
   ],
   "source": [
    "data['ElectricityBill'].min()"
   ]
  },
  {
   "cell_type": "code",
   "execution_count": 13,
   "id": "eaa5f8d8-d620-40d9-a94b-e47909420f03",
   "metadata": {},
   "outputs": [
    {
     "data": {
      "text/plain": [
       "Fan                False\n",
       "Refrigerator       False\n",
       "AirConditioner     False\n",
       "Television         False\n",
       "Monitor            False\n",
       "MotorPump          False\n",
       "Month              False\n",
       "City               False\n",
       "Company            False\n",
       "MonthlyHours       False\n",
       "TariffRate         False\n",
       "ElectricityBill    False\n",
       "dtype: bool"
      ]
     },
     "execution_count": 13,
     "metadata": {},
     "output_type": "execute_result"
    }
   ],
   "source": [
    "data.isnull().any()"
   ]
  },
  {
   "cell_type": "code",
   "execution_count": 14,
   "id": "a80ff722-6986-4118-9650-5beb982c4291",
   "metadata": {},
   "outputs": [
    {
     "data": {
      "text/plain": [
       "Fan                0\n",
       "Refrigerator       0\n",
       "AirConditioner     0\n",
       "Television         0\n",
       "Monitor            0\n",
       "MotorPump          0\n",
       "Month              0\n",
       "City               0\n",
       "Company            0\n",
       "MonthlyHours       0\n",
       "TariffRate         0\n",
       "ElectricityBill    0\n",
       "dtype: int64"
      ]
     },
     "execution_count": 14,
     "metadata": {},
     "output_type": "execute_result"
    }
   ],
   "source": [
    "\n",
    "\n",
    "data.isnull().sum()"
   ]
  },
  {
   "cell_type": "code",
   "execution_count": 15,
   "id": "1f2a0cb4-49fc-40d0-9f56-0608679251a3",
   "metadata": {},
   "outputs": [
    {
     "name": "stdout",
     "output_type": "stream",
     "text": [
      "<class 'pandas.core.frame.DataFrame'>\n",
      "Index: 10000 entries, 33171 to 37541\n",
      "Data columns (total 12 columns):\n",
      " #   Column           Non-Null Count  Dtype  \n",
      "---  ------           --------------  -----  \n",
      " 0   Fan              10000 non-null  int64  \n",
      " 1   Refrigerator     10000 non-null  float64\n",
      " 2   AirConditioner   10000 non-null  float64\n",
      " 3   Television       10000 non-null  float64\n",
      " 4   Monitor          10000 non-null  float64\n",
      " 5   MotorPump        10000 non-null  int64  \n",
      " 6   Month            10000 non-null  int64  \n",
      " 7   City             10000 non-null  object \n",
      " 8   Company          10000 non-null  object \n",
      " 9   MonthlyHours     10000 non-null  int64  \n",
      " 10  TariffRate       10000 non-null  float64\n",
      " 11  ElectricityBill  10000 non-null  float64\n",
      "dtypes: float64(6), int64(4), object(2)\n",
      "memory usage: 1015.6+ KB\n"
     ]
    }
   ],
   "source": [
    "data.info()"
   ]
  },
  {
   "cell_type": "code",
   "execution_count": 16,
   "id": "19860cee-be74-40ba-9a8b-4329c1cc3530",
   "metadata": {},
   "outputs": [
    {
     "data": {
      "text/plain": [
       "33171    False\n",
       "44957    False\n",
       "33477    False\n",
       "19923    False\n",
       "34199    False\n",
       "         ...  \n",
       "38132    False\n",
       "663      False\n",
       "19757    False\n",
       "25415    False\n",
       "37541    False\n",
       "Length: 10000, dtype: bool"
      ]
     },
     "execution_count": 16,
     "metadata": {},
     "output_type": "execute_result"
    }
   ],
   "source": [
    "data.duplicated()"
   ]
  },
  {
   "cell_type": "code",
   "execution_count": 17,
   "id": "e3bd0c00-7595-41b3-bf68-742898164ef9",
   "metadata": {},
   "outputs": [
    {
     "data": {
      "text/plain": [
       "array([[<Axes: title={'center': 'Fan'}>,\n",
       "        <Axes: title={'center': 'Refrigerator'}>,\n",
       "        <Axes: title={'center': 'AirConditioner'}>],\n",
       "       [<Axes: title={'center': 'Television'}>,\n",
       "        <Axes: title={'center': 'Monitor'}>,\n",
       "        <Axes: title={'center': 'MotorPump'}>],\n",
       "       [<Axes: title={'center': 'Month'}>,\n",
       "        <Axes: title={'center': 'MonthlyHours'}>,\n",
       "        <Axes: title={'center': 'TariffRate'}>],\n",
       "       [<Axes: title={'center': 'ElectricityBill'}>, <Axes: >, <Axes: >]],\n",
       "      dtype=object)"
      ]
     },
     "execution_count": 17,
     "metadata": {},
     "output_type": "execute_result"
    },
    {
     "data": {
      "image/png": "[encoded data removed]",
      "text/plain": [
       "<Figure size 1000x1500 with 12 Axes>"
      ]
     },
     "metadata": {},
     "output_type": "display_data"
    }
   ],
   "source": [
    "data.hist(bins=50,figsize=(10,15))"
   ]
  },
  {
   "cell_type": "code",
   "execution_count": 18,
   "id": "ee999925-4742-4233-bc93-ae1873834134",
   "metadata": {},
   "outputs": [
    {
     "data": {
      "image/png": "[encoded data removed]",
      "text/plain": [
       "<Figure size 640x480 with 2 Axes>"
      ]
     },
     "metadata": {},
     "output_type": "display_data"
    }
   ],
   "source": [
    "import matplotlib.pyplot as plt\n",
    "\n",
    "# Sample data\n",
    "data1 = data.head(100)\n",
    "x = data1['MonthlyHours']\n",
    "y = data1['ElectricityBill']\n",
    "\n",
    "# Create a scatter plot for MonthlyHours\n",
    "plt.xlabel('Monthly Hours')\n",
    "plt.ylabel('Electricity Bill')\n",
    "\n",
    "# Scatter plot for MonthlyHours (color-coded)\n",
    "scatter1 = plt.scatter(x, y, c=x, cmap='viridis', label='Monthly Hours', alpha=0.7)\n",
    "\n",
    "# Scatter plot for ElectricityBill (color-coded differently)\n",
    "scatter2 = plt.scatter(x, y, c=y, cmap='plasma', label='Electricity Bill', alpha=0.7)\n",
    "\n",
    "# Add a color bar to show the scale of colors for MonthlyHours\n",
    "plt.colorbar(scatter1, label='Monthly Hours')\n",
    "\n",
    "# Add the legend\n",
    "plt.legend()\n",
    "\n",
    "# Show the plot\n",
    "plt.show()\n"
   ]
  },
  {
   "cell_type": "code",
   "execution_count": 19,
   "id": "ace6f9e3-55ac-49a8-b68c-f43b90b7d3cb",
   "metadata": {},
   "outputs": [],
   "source": [
    "enc=LabelEncoder()"
   ]
  },
  {
   "cell_type": "code",
   "execution_count": null,
   "id": "7d8a798f-90bf-40e4-9f4e-42c33388e26f",
   "metadata": {},
   "outputs": [],
   "source": []
  },
  {
   "cell_type": "code",
   "execution_count": 20,
   "id": "63001af4-5397-44e7-a55d-a9b7ad98007c",
   "metadata": {},
   "outputs": [],
   "source": [
    "data.City=enc.fit_transform(data.City)"
   ]
  },
  {
   "cell_type": "code",
   "execution_count": 21,
   "id": "b0394290-82b9-4f28-a8b3-d6ac713fe4bf",
   "metadata": {},
   "outputs": [],
   "source": [
    "data.Company=enc.fit_transform(data.Company)"
   ]
  },
  {
   "cell_type": "code",
   "execution_count": 22,
   "id": "bd799eaa-e329-4063-ac72-826bb951bc43",
   "metadata": {},
   "outputs": [
    {
     "data": {
      "text/html": [
       "<div>\n",
       "<style scoped>\n",
       "    .dataframe tbody tr th:only-of-type {\n",
       "        vertical-align: middle;\n",
       "    }\n",
       "\n",
       "    .dataframe tbody tr th {\n",
       "        vertical-align: top;\n",
       "    }\n",
       "\n",
       "    .dataframe thead th {\n",
       "        text-align: right;\n",
       "    }\n",
       "</style>\n",
       "<table border=\"1\" class=\"dataframe\">\n",
       "  <thead>\n",
       "    <tr style=\"text-align: right;\">\n",
       "      <th></th>\n",
       "      <th>Fan</th>\n",
       "      <th>Refrigerator</th>\n",
       "      <th>AirConditioner</th>\n",
       "      <th>Television</th>\n",
       "      <th>Monitor</th>\n",
       "      <th>MotorPump</th>\n",
       "      <th>Month</th>\n",
       "      <th>City</th>\n",
       "      <th>Company</th>\n",
       "      <th>MonthlyHours</th>\n",
       "      <th>TariffRate</th>\n",
       "      <th>ElectricityBill</th>\n",
       "    </tr>\n",
       "  </thead>\n",
       "  <tbody>\n",
       "    <tr>\n",
       "      <th>Fan</th>\n",
       "      <td>1.000000</td>\n",
       "      <td>0.560917</td>\n",
       "      <td>0.021804</td>\n",
       "      <td>0.011411</td>\n",
       "      <td>0.100388</td>\n",
       "      <td>NaN</td>\n",
       "      <td>-0.007332</td>\n",
       "      <td>0.002280</td>\n",
       "      <td>0.010183</td>\n",
       "      <td>0.430790</td>\n",
       "      <td>-0.008582</td>\n",
       "      <td>0.411939</td>\n",
       "    </tr>\n",
       "    <tr>\n",
       "      <th>Refrigerator</th>\n",
       "      <td>0.560917</td>\n",
       "      <td>1.000000</td>\n",
       "      <td>0.024398</td>\n",
       "      <td>0.012404</td>\n",
       "      <td>0.075333</td>\n",
       "      <td>NaN</td>\n",
       "      <td>0.001408</td>\n",
       "      <td>-0.012987</td>\n",
       "      <td>-0.001240</td>\n",
       "      <td>0.397529</td>\n",
       "      <td>-0.011691</td>\n",
       "      <td>0.379354</td>\n",
       "    </tr>\n",
       "    <tr>\n",
       "      <th>AirConditioner</th>\n",
       "      <td>0.021804</td>\n",
       "      <td>0.024398</td>\n",
       "      <td>1.000000</td>\n",
       "      <td>-0.019069</td>\n",
       "      <td>-0.001340</td>\n",
       "      <td>NaN</td>\n",
       "      <td>-0.000814</td>\n",
       "      <td>0.017688</td>\n",
       "      <td>-0.004139</td>\n",
       "      <td>0.285738</td>\n",
       "      <td>0.009094</td>\n",
       "      <td>0.277135</td>\n",
       "    </tr>\n",
       "    <tr>\n",
       "      <th>Television</th>\n",
       "      <td>0.011411</td>\n",
       "      <td>0.012404</td>\n",
       "      <td>-0.019069</td>\n",
       "      <td>1.000000</td>\n",
       "      <td>0.001886</td>\n",
       "      <td>NaN</td>\n",
       "      <td>-0.003630</td>\n",
       "      <td>0.000961</td>\n",
       "      <td>0.018621</td>\n",
       "      <td>0.430660</td>\n",
       "      <td>0.001494</td>\n",
       "      <td>0.413440</td>\n",
       "    </tr>\n",
       "    <tr>\n",
       "      <th>Monitor</th>\n",
       "      <td>0.100388</td>\n",
       "      <td>0.075333</td>\n",
       "      <td>-0.001340</td>\n",
       "      <td>0.001886</td>\n",
       "      <td>1.000000</td>\n",
       "      <td>NaN</td>\n",
       "      <td>-0.014288</td>\n",
       "      <td>-0.016449</td>\n",
       "      <td>-0.007768</td>\n",
       "      <td>0.317438</td>\n",
       "      <td>-0.011120</td>\n",
       "      <td>0.301747</td>\n",
       "    </tr>\n",
       "    <tr>\n",
       "      <th>MotorPump</th>\n",
       "      <td>NaN</td>\n",
       "      <td>NaN</td>\n",
       "      <td>NaN</td>\n",
       "      <td>NaN</td>\n",
       "      <td>NaN</td>\n",
       "      <td>NaN</td>\n",
       "      <td>NaN</td>\n",
       "      <td>NaN</td>\n",
       "      <td>NaN</td>\n",
       "      <td>NaN</td>\n",
       "      <td>NaN</td>\n",
       "      <td>NaN</td>\n",
       "    </tr>\n",
       "    <tr>\n",
       "      <th>Month</th>\n",
       "      <td>-0.007332</td>\n",
       "      <td>0.001408</td>\n",
       "      <td>-0.000814</td>\n",
       "      <td>-0.003630</td>\n",
       "      <td>-0.014288</td>\n",
       "      <td>NaN</td>\n",
       "      <td>1.000000</td>\n",
       "      <td>-0.015481</td>\n",
       "      <td>-0.009444</td>\n",
       "      <td>0.018908</td>\n",
       "      <td>-0.004522</td>\n",
       "      <td>0.016827</td>\n",
       "    </tr>\n",
       "    <tr>\n",
       "      <th>City</th>\n",
       "      <td>0.002280</td>\n",
       "      <td>-0.012987</td>\n",
       "      <td>0.017688</td>\n",
       "      <td>0.000961</td>\n",
       "      <td>-0.016449</td>\n",
       "      <td>NaN</td>\n",
       "      <td>-0.015481</td>\n",
       "      <td>1.000000</td>\n",
       "      <td>-0.002891</td>\n",
       "      <td>0.003213</td>\n",
       "      <td>-0.088085</td>\n",
       "      <td>-0.022779</td>\n",
       "    </tr>\n",
       "    <tr>\n",
       "      <th>Company</th>\n",
       "      <td>0.010183</td>\n",
       "      <td>-0.001240</td>\n",
       "      <td>-0.004139</td>\n",
       "      <td>0.018621</td>\n",
       "      <td>-0.007768</td>\n",
       "      <td>NaN</td>\n",
       "      <td>-0.009444</td>\n",
       "      <td>-0.002891</td>\n",
       "      <td>1.000000</td>\n",
       "      <td>0.009853</td>\n",
       "      <td>-0.000341</td>\n",
       "      <td>0.008128</td>\n",
       "    </tr>\n",
       "    <tr>\n",
       "      <th>MonthlyHours</th>\n",
       "      <td>0.430790</td>\n",
       "      <td>0.397529</td>\n",
       "      <td>0.285738</td>\n",
       "      <td>0.430660</td>\n",
       "      <td>0.317438</td>\n",
       "      <td>NaN</td>\n",
       "      <td>0.018908</td>\n",
       "      <td>0.003213</td>\n",
       "      <td>0.009853</td>\n",
       "      <td>1.000000</td>\n",
       "      <td>-0.004826</td>\n",
       "      <td>0.959332</td>\n",
       "    </tr>\n",
       "    <tr>\n",
       "      <th>TariffRate</th>\n",
       "      <td>-0.008582</td>\n",
       "      <td>-0.011691</td>\n",
       "      <td>0.009094</td>\n",
       "      <td>0.001494</td>\n",
       "      <td>-0.011120</td>\n",
       "      <td>NaN</td>\n",
       "      <td>-0.004522</td>\n",
       "      <td>-0.088085</td>\n",
       "      <td>-0.000341</td>\n",
       "      <td>-0.004826</td>\n",
       "      <td>1.000000</td>\n",
       "      <td>0.269936</td>\n",
       "    </tr>\n",
       "    <tr>\n",
       "      <th>ElectricityBill</th>\n",
       "      <td>0.411939</td>\n",
       "      <td>0.379354</td>\n",
       "      <td>0.277135</td>\n",
       "      <td>0.413440</td>\n",
       "      <td>0.301747</td>\n",
       "      <td>NaN</td>\n",
       "      <td>0.016827</td>\n",
       "      <td>-0.022779</td>\n",
       "      <td>0.008128</td>\n",
       "      <td>0.959332</td>\n",
       "      <td>0.269936</td>\n",
       "      <td>1.000000</td>\n",
       "    </tr>\n",
       "  </tbody>\n",
       "</table>\n",
       "</div>"
      ],
      "text/plain": [
       "                      Fan  Refrigerator  AirConditioner  Television   Monitor  \\\n",
       "Fan              1.000000      0.560917        0.021804    0.011411  0.100388   \n",
       "Refrigerator     0.560917      1.000000        0.024398    0.012404  0.075333   \n",
       "AirConditioner   0.021804      0.024398        1.000000   -0.019069 -0.001340   \n",
       "Television       0.011411      0.012404       -0.019069    1.000000  0.001886   \n",
       "Monitor          0.100388      0.075333       -0.001340    0.001886  1.000000   \n",
       "MotorPump             NaN           NaN             NaN         NaN       NaN   \n",
       "Month           -0.007332      0.001408       -0.000814   -0.003630 -0.014288   \n",
       "City             0.002280     -0.012987        0.017688    0.000961 -0.016449   \n",
       "Company          0.010183     -0.001240       -0.004139    0.018621 -0.007768   \n",
       "MonthlyHours     0.430790      0.397529        0.285738    0.430660  0.317438   \n",
       "TariffRate      -0.008582     -0.011691        0.009094    0.001494 -0.011120   \n",
       "ElectricityBill  0.411939      0.379354        0.277135    0.413440  0.301747   \n",
       "\n",
       "                 MotorPump     Month      City   Company  MonthlyHours  \\\n",
       "Fan                    NaN -0.007332  0.002280  0.010183      0.430790   \n",
       "Refrigerator           NaN  0.001408 -0.012987 -0.001240      0.397529   \n",
       "AirConditioner         NaN -0.000814  0.017688 -0.004139      0.285738   \n",
       "Television             NaN -0.003630  0.000961  0.018621      0.430660   \n",
       "Monitor                NaN -0.014288 -0.016449 -0.007768      0.317438   \n",
       "MotorPump              NaN       NaN       NaN       NaN           NaN   \n",
       "Month                  NaN  1.000000 -0.015481 -0.009444      0.018908   \n",
       "City                   NaN -0.015481  1.000000 -0.002891      0.003213   \n",
       "Company                NaN -0.009444 -0.002891  1.000000      0.009853   \n",
       "MonthlyHours           NaN  0.018908  0.003213  0.009853      1.000000   \n",
       "TariffRate             NaN -0.004522 -0.088085 -0.000341     -0.004826   \n",
       "ElectricityBill        NaN  0.016827 -0.022779  0.008128      0.959332   \n",
       "\n",
       "                 TariffRate  ElectricityBill  \n",
       "Fan               -0.008582         0.411939  \n",
       "Refrigerator      -0.011691         0.379354  \n",
       "AirConditioner     0.009094         0.277135  \n",
       "Television         0.001494         0.413440  \n",
       "Monitor           -0.011120         0.301747  \n",
       "MotorPump               NaN              NaN  \n",
       "Month             -0.004522         0.016827  \n",
       "City              -0.088085        -0.022779  \n",
       "Company           -0.000341         0.008128  \n",
       "MonthlyHours      -0.004826         0.959332  \n",
       "TariffRate         1.000000         0.269936  \n",
       "ElectricityBill    0.269936         1.000000  "
      ]
     },
     "execution_count": 22,
     "metadata": {},
     "output_type": "execute_result"
    }
   ],
   "source": [
    "data.corr()"
   ]
  },
  {
   "cell_type": "code",
   "execution_count": null,
   "id": "7fa5cea2-df4b-456b-97dc-20a526de8f02",
   "metadata": {},
   "outputs": [],
   "source": []
  },
  {
   "cell_type": "code",
   "execution_count": 23,
   "id": "6465847c-2505-417d-b04b-ead8f2bdd3e8",
   "metadata": {},
   "outputs": [
    {
     "name": "stdout",
     "output_type": "stream",
     "text": [
      "<class 'pandas.core.frame.DataFrame'>\n",
      "Index: 10000 entries, 33171 to 37541\n",
      "Data columns (total 12 columns):\n",
      " #   Column           Non-Null Count  Dtype  \n",
      "---  ------           --------------  -----  \n",
      " 0   Fan              10000 non-null  int64  \n",
      " 1   Refrigerator     10000 non-null  float64\n",
      " 2   AirConditioner   10000 non-null  float64\n",
      " 3   Television       10000 non-null  float64\n",
      " 4   Monitor          10000 non-null  float64\n",
      " 5   MotorPump        10000 non-null  int64  \n",
      " 6   Month            10000 non-null  int64  \n",
      " 7   City             10000 non-null  int32  \n",
      " 8   Company          10000 non-null  int32  \n",
      " 9   MonthlyHours     10000 non-null  int64  \n",
      " 10  TariffRate       10000 non-null  float64\n",
      " 11  ElectricityBill  10000 non-null  float64\n",
      "dtypes: float64(6), int32(2), int64(4)\n",
      "memory usage: 937.5 KB\n"
     ]
    }
   ],
   "source": [
    "data.info()"
   ]
  },
  {
   "cell_type": "code",
   "execution_count": 24,
   "id": "1d1b6617-a52f-4631-adf3-741984c2c7e8",
   "metadata": {},
   "outputs": [],
   "source": [
    "data.drop(columns=['MotorPump'], inplace=True)"
   ]
  },
  {
   "cell_type": "code",
   "execution_count": 25,
   "id": "f83111d8-f6bb-4e6a-8cf1-034bf9a19928",
   "metadata": {},
   "outputs": [
    {
     "data": {
      "text/html": [
       "<div>\n",
       "<style scoped>\n",
       "    .dataframe tbody tr th:only-of-type {\n",
       "        vertical-align: middle;\n",
       "    }\n",
       "\n",
       "    .dataframe tbody tr th {\n",
       "        vertical-align: top;\n",
       "    }\n",
       "\n",
       "    .dataframe thead th {\n",
       "        text-align: right;\n",
       "    }\n",
       "</style>\n",
       "<table border=\"1\" class=\"dataframe\">\n",
       "  <thead>\n",
       "    <tr style=\"text-align: right;\">\n",
       "      <th></th>\n",
       "      <th>Fan</th>\n",
       "      <th>Refrigerator</th>\n",
       "      <th>AirConditioner</th>\n",
       "      <th>Television</th>\n",
       "      <th>Monitor</th>\n",
       "      <th>Month</th>\n",
       "      <th>City</th>\n",
       "      <th>Company</th>\n",
       "      <th>MonthlyHours</th>\n",
       "      <th>TariffRate</th>\n",
       "      <th>ElectricityBill</th>\n",
       "    </tr>\n",
       "  </thead>\n",
       "  <tbody>\n",
       "    <tr>\n",
       "      <th>33171</th>\n",
       "      <td>14</td>\n",
       "      <td>22.0</td>\n",
       "      <td>3.0</td>\n",
       "      <td>22.0</td>\n",
       "      <td>1.0</td>\n",
       "      <td>12</td>\n",
       "      <td>3</td>\n",
       "      <td>25</td>\n",
       "      <td>620</td>\n",
       "      <td>8.1</td>\n",
       "      <td>5022.0</td>\n",
       "    </tr>\n",
       "    <tr>\n",
       "      <th>44957</th>\n",
       "      <td>21</td>\n",
       "      <td>23.0</td>\n",
       "      <td>1.0</td>\n",
       "      <td>8.0</td>\n",
       "      <td>1.0</td>\n",
       "      <td>9</td>\n",
       "      <td>0</td>\n",
       "      <td>26</td>\n",
       "      <td>447</td>\n",
       "      <td>7.9</td>\n",
       "      <td>3531.3</td>\n",
       "    </tr>\n",
       "    <tr>\n",
       "      <th>33477</th>\n",
       "      <td>7</td>\n",
       "      <td>19.0</td>\n",
       "      <td>3.0</td>\n",
       "      <td>19.0</td>\n",
       "      <td>1.0</td>\n",
       "      <td>10</td>\n",
       "      <td>5</td>\n",
       "      <td>16</td>\n",
       "      <td>658</td>\n",
       "      <td>8.4</td>\n",
       "      <td>5527.2</td>\n",
       "    </tr>\n",
       "    <tr>\n",
       "      <th>19923</th>\n",
       "      <td>6</td>\n",
       "      <td>19.0</td>\n",
       "      <td>3.0</td>\n",
       "      <td>19.0</td>\n",
       "      <td>1.0</td>\n",
       "      <td>6</td>\n",
       "      <td>2</td>\n",
       "      <td>21</td>\n",
       "      <td>409</td>\n",
       "      <td>7.6</td>\n",
       "      <td>3108.4</td>\n",
       "    </tr>\n",
       "    <tr>\n",
       "      <th>34199</th>\n",
       "      <td>8</td>\n",
       "      <td>20.0</td>\n",
       "      <td>2.0</td>\n",
       "      <td>11.0</td>\n",
       "      <td>1.0</td>\n",
       "      <td>12</td>\n",
       "      <td>12</td>\n",
       "      <td>27</td>\n",
       "      <td>343</td>\n",
       "      <td>9.1</td>\n",
       "      <td>3121.3</td>\n",
       "    </tr>\n",
       "    <tr>\n",
       "      <th>...</th>\n",
       "      <td>...</td>\n",
       "      <td>...</td>\n",
       "      <td>...</td>\n",
       "      <td>...</td>\n",
       "      <td>...</td>\n",
       "      <td>...</td>\n",
       "      <td>...</td>\n",
       "      <td>...</td>\n",
       "      <td>...</td>\n",
       "      <td>...</td>\n",
       "      <td>...</td>\n",
       "    </tr>\n",
       "    <tr>\n",
       "      <th>38132</th>\n",
       "      <td>10</td>\n",
       "      <td>21.0</td>\n",
       "      <td>1.0</td>\n",
       "      <td>20.0</td>\n",
       "      <td>1.0</td>\n",
       "      <td>4</td>\n",
       "      <td>1</td>\n",
       "      <td>7</td>\n",
       "      <td>596</td>\n",
       "      <td>8.8</td>\n",
       "      <td>5244.8</td>\n",
       "    </tr>\n",
       "    <tr>\n",
       "      <th>663</th>\n",
       "      <td>9</td>\n",
       "      <td>23.0</td>\n",
       "      <td>3.0</td>\n",
       "      <td>12.0</td>\n",
       "      <td>1.0</td>\n",
       "      <td>11</td>\n",
       "      <td>1</td>\n",
       "      <td>0</td>\n",
       "      <td>536</td>\n",
       "      <td>8.8</td>\n",
       "      <td>4716.8</td>\n",
       "    </tr>\n",
       "    <tr>\n",
       "      <th>19757</th>\n",
       "      <td>9</td>\n",
       "      <td>21.0</td>\n",
       "      <td>3.0</td>\n",
       "      <td>10.0</td>\n",
       "      <td>1.0</td>\n",
       "      <td>3</td>\n",
       "      <td>3</td>\n",
       "      <td>11</td>\n",
       "      <td>356</td>\n",
       "      <td>8.1</td>\n",
       "      <td>2883.6</td>\n",
       "    </tr>\n",
       "    <tr>\n",
       "      <th>25415</th>\n",
       "      <td>12</td>\n",
       "      <td>22.0</td>\n",
       "      <td>2.0</td>\n",
       "      <td>7.0</td>\n",
       "      <td>1.0</td>\n",
       "      <td>8</td>\n",
       "      <td>4</td>\n",
       "      <td>23</td>\n",
       "      <td>432</td>\n",
       "      <td>8.3</td>\n",
       "      <td>3585.6</td>\n",
       "    </tr>\n",
       "    <tr>\n",
       "      <th>37541</th>\n",
       "      <td>18</td>\n",
       "      <td>22.0</td>\n",
       "      <td>0.0</td>\n",
       "      <td>3.0</td>\n",
       "      <td>1.0</td>\n",
       "      <td>12</td>\n",
       "      <td>7</td>\n",
       "      <td>2</td>\n",
       "      <td>277</td>\n",
       "      <td>9.2</td>\n",
       "      <td>2548.4</td>\n",
       "    </tr>\n",
       "  </tbody>\n",
       "</table>\n",
       "<p>10000 rows × 11 columns</p>\n",
       "</div>"
      ],
      "text/plain": [
       "       Fan  Refrigerator  AirConditioner  Television  Monitor  Month  City  \\\n",
       "33171   14          22.0             3.0        22.0      1.0     12     3   \n",
       "44957   21          23.0             1.0         8.0      1.0      9     0   \n",
       "33477    7          19.0             3.0        19.0      1.0     10     5   \n",
       "19923    6          19.0             3.0        19.0      1.0      6     2   \n",
       "34199    8          20.0             2.0        11.0      1.0     12    12   \n",
       "...    ...           ...             ...         ...      ...    ...   ...   \n",
       "38132   10          21.0             1.0        20.0      1.0      4     1   \n",
       "663      9          23.0             3.0        12.0      1.0     11     1   \n",
       "19757    9          21.0             3.0        10.0      1.0      3     3   \n",
       "25415   12          22.0             2.0         7.0      1.0      8     4   \n",
       "37541   18          22.0             0.0         3.0      1.0     12     7   \n",
       "\n",
       "       Company  MonthlyHours  TariffRate  ElectricityBill  \n",
       "33171       25           620         8.1           5022.0  \n",
       "44957       26           447         7.9           3531.3  \n",
       "33477       16           658         8.4           5527.2  \n",
       "19923       21           409         7.6           3108.4  \n",
       "34199       27           343         9.1           3121.3  \n",
       "...        ...           ...         ...              ...  \n",
       "38132        7           596         8.8           5244.8  \n",
       "663          0           536         8.8           4716.8  \n",
       "19757       11           356         8.1           2883.6  \n",
       "25415       23           432         8.3           3585.6  \n",
       "37541        2           277         9.2           2548.4  \n",
       "\n",
       "[10000 rows x 11 columns]"
      ]
     },
     "execution_count": 25,
     "metadata": {},
     "output_type": "execute_result"
    }
   ],
   "source": [
    "data"
   ]
  },
  {
   "cell_type": "code",
   "execution_count": 26,
   "id": "a6bb56d2-3083-4485-8734-194c1077af11",
   "metadata": {},
   "outputs": [
    {
     "data": {
      "image/png": "[encoded data removed]",
      "text/plain": [
       "<Figure size 1200x1000 with 2 Axes>"
      ]
     },
     "metadata": {},
     "output_type": "display_data"
    }
   ],
   "source": [
    "import pandas as pd\n",
    "import seaborn as sns\n",
    "import matplotlib.pyplot as plt\n",
    "\n",
    "# Assuming your data is in a DataFrame called df\n",
    "# df = pd.read_csv('your_data.csv')  # Uncomment if you're loading from a CSV\n",
    "\n",
    "# Calculate the correlation matrix\n",
    "corr_matrix = data.corr()\n",
    "\n",
    "# Plot the heatmap\n",
    "plt.figure(figsize=(12, 10))  # Adjust figure size for better visibility\n",
    "sns.heatmap(corr_matrix, annot=True, cmap='coolwarm', fmt='.2f', linewidths=0.5, vmin=-1, vmax=1)\n",
    "\n",
    "# Title for the heatmap\n",
    "plt.title('Correlation Heatmap', fontsize=16)\n",
    "\n",
    "# Show the plot\n",
    "plt.show()\n"
   ]
  },
  {
   "cell_type": "code",
   "execution_count": 27,
   "id": "009b5f68-8963-4a88-9a71-b26360bbbdbc",
   "metadata": {},
   "outputs": [],
   "source": [
    "X=data.loc[:,('Fan','Refrigerator','AirConditioner','Television','MonthlyHours')]"
   ]
  },
  {
   "cell_type": "code",
   "execution_count": 28,
   "id": "d566ab50-c533-40e2-b182-d1db84eb51ab",
   "metadata": {},
   "outputs": [
    {
     "data": {
      "text/html": [
       "<div>\n",
       "<style scoped>\n",
       "    .dataframe tbody tr th:only-of-type {\n",
       "        vertical-align: middle;\n",
       "    }\n",
       "\n",
       "    .dataframe tbody tr th {\n",
       "        vertical-align: top;\n",
       "    }\n",
       "\n",
       "    .dataframe thead th {\n",
       "        text-align: right;\n",
       "    }\n",
       "</style>\n",
       "<table border=\"1\" class=\"dataframe\">\n",
       "  <thead>\n",
       "    <tr style=\"text-align: right;\">\n",
       "      <th></th>\n",
       "      <th>Fan</th>\n",
       "      <th>Refrigerator</th>\n",
       "      <th>AirConditioner</th>\n",
       "      <th>Television</th>\n",
       "      <th>MonthlyHours</th>\n",
       "    </tr>\n",
       "  </thead>\n",
       "  <tbody>\n",
       "    <tr>\n",
       "      <th>33171</th>\n",
       "      <td>14</td>\n",
       "      <td>22.0</td>\n",
       "      <td>3.0</td>\n",
       "      <td>22.0</td>\n",
       "      <td>620</td>\n",
       "    </tr>\n",
       "    <tr>\n",
       "      <th>44957</th>\n",
       "      <td>21</td>\n",
       "      <td>23.0</td>\n",
       "      <td>1.0</td>\n",
       "      <td>8.0</td>\n",
       "      <td>447</td>\n",
       "    </tr>\n",
       "    <tr>\n",
       "      <th>33477</th>\n",
       "      <td>7</td>\n",
       "      <td>19.0</td>\n",
       "      <td>3.0</td>\n",
       "      <td>19.0</td>\n",
       "      <td>658</td>\n",
       "    </tr>\n",
       "    <tr>\n",
       "      <th>19923</th>\n",
       "      <td>6</td>\n",
       "      <td>19.0</td>\n",
       "      <td>3.0</td>\n",
       "      <td>19.0</td>\n",
       "      <td>409</td>\n",
       "    </tr>\n",
       "    <tr>\n",
       "      <th>34199</th>\n",
       "      <td>8</td>\n",
       "      <td>20.0</td>\n",
       "      <td>2.0</td>\n",
       "      <td>11.0</td>\n",
       "      <td>343</td>\n",
       "    </tr>\n",
       "    <tr>\n",
       "      <th>...</th>\n",
       "      <td>...</td>\n",
       "      <td>...</td>\n",
       "      <td>...</td>\n",
       "      <td>...</td>\n",
       "      <td>...</td>\n",
       "    </tr>\n",
       "    <tr>\n",
       "      <th>38132</th>\n",
       "      <td>10</td>\n",
       "      <td>21.0</td>\n",
       "      <td>1.0</td>\n",
       "      <td>20.0</td>\n",
       "      <td>596</td>\n",
       "    </tr>\n",
       "    <tr>\n",
       "      <th>663</th>\n",
       "      <td>9</td>\n",
       "      <td>23.0</td>\n",
       "      <td>3.0</td>\n",
       "      <td>12.0</td>\n",
       "      <td>536</td>\n",
       "    </tr>\n",
       "    <tr>\n",
       "      <th>19757</th>\n",
       "      <td>9</td>\n",
       "      <td>21.0</td>\n",
       "      <td>3.0</td>\n",
       "      <td>10.0</td>\n",
       "      <td>356</td>\n",
       "    </tr>\n",
       "    <tr>\n",
       "      <th>25415</th>\n",
       "      <td>12</td>\n",
       "      <td>22.0</td>\n",
       "      <td>2.0</td>\n",
       "      <td>7.0</td>\n",
       "      <td>432</td>\n",
       "    </tr>\n",
       "    <tr>\n",
       "      <th>37541</th>\n",
       "      <td>18</td>\n",
       "      <td>22.0</td>\n",
       "      <td>0.0</td>\n",
       "      <td>3.0</td>\n",
       "      <td>277</td>\n",
       "    </tr>\n",
       "  </tbody>\n",
       "</table>\n",
       "<p>10000 rows × 5 columns</p>\n",
       "</div>"
      ],
      "text/plain": [
       "       Fan  Refrigerator  AirConditioner  Television  MonthlyHours\n",
       "33171   14          22.0             3.0        22.0           620\n",
       "44957   21          23.0             1.0         8.0           447\n",
       "33477    7          19.0             3.0        19.0           658\n",
       "19923    6          19.0             3.0        19.0           409\n",
       "34199    8          20.0             2.0        11.0           343\n",
       "...    ...           ...             ...         ...           ...\n",
       "38132   10          21.0             1.0        20.0           596\n",
       "663      9          23.0             3.0        12.0           536\n",
       "19757    9          21.0             3.0        10.0           356\n",
       "25415   12          22.0             2.0         7.0           432\n",
       "37541   18          22.0             0.0         3.0           277\n",
       "\n",
       "[10000 rows x 5 columns]"
      ]
     },
     "execution_count": 28,
     "metadata": {},
     "output_type": "execute_result"
    }
   ],
   "source": [
    "X"
   ]
  },
  {
   "cell_type": "code",
   "execution_count": 29,
   "id": "72f8f459-012e-4987-9737-8a171ba56cad",
   "metadata": {},
   "outputs": [
    {
     "data": {
      "text/plain": [
       "12"
      ]
     },
     "execution_count": 29,
     "metadata": {},
     "output_type": "execute_result"
    }
   ],
   "source": [
    "max(data['Month'])"
   ]
  },
  {
   "cell_type": "code",
   "execution_count": 30,
   "id": "4ccc467c-d66a-42c8-a1c0-6791df091688",
   "metadata": {},
   "outputs": [
    {
     "data": {
      "text/plain": [
       "1"
      ]
     },
     "execution_count": 30,
     "metadata": {},
     "output_type": "execute_result"
    }
   ],
   "source": [
    "min(data['Month'])"
   ]
  },
  {
   "cell_type": "code",
   "execution_count": 31,
   "id": "0c2b0edf-2fb4-4773-bec7-789eb3c7cd82",
   "metadata": {},
   "outputs": [],
   "source": [
    "Y=data.iloc[:,-1]"
   ]
  },
  {
   "cell_type": "code",
   "execution_count": 32,
   "id": "f5264fbe-3f0e-4963-ab5d-05ba099dda0b",
   "metadata": {},
   "outputs": [
    {
     "data": {
      "text/plain": [
       "33171    5022.0\n",
       "44957    3531.3\n",
       "33477    5527.2\n",
       "19923    3108.4\n",
       "34199    3121.3\n",
       "          ...  \n",
       "38132    5244.8\n",
       "663      4716.8\n",
       "19757    2883.6\n",
       "25415    3585.6\n",
       "37541    2548.4\n",
       "Name: ElectricityBill, Length: 10000, dtype: float64"
      ]
     },
     "execution_count": 32,
     "metadata": {},
     "output_type": "execute_result"
    }
   ],
   "source": [
    "Y"
   ]
  },
  {
   "cell_type": "code",
   "execution_count": 33,
   "id": "009b90bd-1d3a-40c5-9e52-b3e17e41fe10",
   "metadata": {},
   "outputs": [],
   "source": [
    "X_train,X_test,Y_train,Y_test=train_test_split(X,Y,test_size=0.4,random_state=5)"
   ]
  },
  {
   "cell_type": "code",
   "execution_count": 34,
   "id": "6865fe6f-575b-4376-b243-c0cb28dbdbb7",
   "metadata": {
    "scrolled": true
   },
   "outputs": [
    {
     "name": "stdout",
     "output_type": "stream",
     "text": [
      "(10000, 5) (4000, 5) (6000, 5)\n"
     ]
    }
   ],
   "source": [
    "print(X.shape,X_test.shape,X_train.shape)"
   ]
  },
  {
   "cell_type": "code",
   "execution_count": 35,
   "id": "c3a5911c-68ba-4493-b45b-6071ef2b2d76",
   "metadata": {},
   "outputs": [],
   "source": [
    "scaler=StandardScaler()"
   ]
  },
  {
   "cell_type": "code",
   "execution_count": 36,
   "id": "b67a1251-fa3d-488d-b1bc-05e0fa77b678",
   "metadata": {},
   "outputs": [
    {
     "data": {
      "text/html": [
       "<style>#sk-container-id-1 {color: black;background-color: white;}#sk-container-id-1 pre{padding: 0;}#sk-container-id-1 div.sk-toggleable {background-color: white;}#sk-container-id-1 label.sk-toggleable__label {cursor: pointer;display: block;width: 100%;margin-bottom: 0;padding: 0.3em;box-sizing: border-box;text-align: center;}#sk-container-id-1 label.sk-toggleable__label-arrow:before {content: \"▸\";float: left;margin-right: 0.25em;color: #696969;}#sk-container-id-1 label.sk-toggleable__label-arrow:hover:before {color: black;}#sk-container-id-1 div.sk-estimator:hover label.sk-toggleable__label-arrow:before {color: black;}#sk-container-id-1 div.sk-toggleable__content {max-height: 0;max-width: 0;overflow: hidden;text-align: left;background-color: #f0f8ff;}#sk-container-id-1 div.sk-toggleable__content pre {margin: 0.2em;color: black;border-radius: 0.25em;background-color: #f0f8ff;}#sk-container-id-1 input.sk-toggleable__control:checked~div.sk-toggleable__content {max-height: 200px;max-width: 100%;overflow: auto;}#sk-container-id-1 input.sk-toggleable__control:checked~label.sk-toggleable__label-arrow:before {content: \"▾\";}#sk-container-id-1 div.sk-estimator input.sk-toggleable__control:checked~label.sk-toggleable__label {background-color: #d4ebff;}#sk-container-id-1 div.sk-label input.sk-toggleable__control:checked~label.sk-toggleable__label {background-color: #d4ebff;}#sk-container-id-1 input.sk-hidden--visually {border: 0;clip: rect(1px 1px 1px 1px);clip: rect(1px, 1px, 1px, 1px);height: 1px;margin: -1px;overflow: hidden;padding: 0;position: absolute;width: 1px;}#sk-container-id-1 div.sk-estimator {font-family: monospace;background-color: #f0f8ff;border: 1px dotted black;border-radius: 0.25em;box-sizing: border-box;margin-bottom: 0.5em;}#sk-container-id-1 div.sk-estimator:hover {background-color: #d4ebff;}#sk-container-id-1 div.sk-parallel-item::after {content: \"\";width: 100%;border-bottom: 1px solid gray;flex-grow: 1;}#sk-container-id-1 div.sk-label:hover label.sk-toggleable__label {background-color: #d4ebff;}#sk-container-id-1 div.sk-serial::before {content: \"\";position: absolute;border-left: 1px solid gray;box-sizing: border-box;top: 0;bottom: 0;left: 50%;z-index: 0;}#sk-container-id-1 div.sk-serial {display: flex;flex-direction: column;align-items: center;background-color: white;padding-right: 0.2em;padding-left: 0.2em;position: relative;}#sk-container-id-1 div.sk-item {position: relative;z-index: 1;}#sk-container-id-1 div.sk-parallel {display: flex;align-items: stretch;justify-content: center;background-color: white;position: relative;}#sk-container-id-1 div.sk-item::before, #sk-container-id-1 div.sk-parallel-item::before {content: \"\";position: absolute;border-left: 1px solid gray;box-sizing: border-box;top: 0;bottom: 0;left: 50%;z-index: -1;}#sk-container-id-1 div.sk-parallel-item {display: flex;flex-direction: column;z-index: 1;position: relative;background-color: white;}#sk-container-id-1 div.sk-parallel-item:first-child::after {align-self: flex-end;width: 50%;}#sk-container-id-1 div.sk-parallel-item:last-child::after {align-self: flex-start;width: 50%;}#sk-container-id-1 div.sk-parallel-item:only-child::after {width: 0;}#sk-container-id-1 div.sk-dashed-wrapped {border: 1px dashed gray;margin: 0 0.4em 0.5em 0.4em;box-sizing: border-box;padding-bottom: 0.4em;background-color: white;}#sk-container-id-1 div.sk-label label {font-family: monospace;font-weight: bold;display: inline-block;line-height: 1.2em;}#sk-container-id-1 div.sk-label-container {text-align: center;}#sk-container-id-1 div.sk-container {/* jupyter's `normalize.less` sets `[hidden] { display: none; }` but bootstrap.min.css set `[hidden] { display: none !important; }` so we also need the `!important` here to be able to override the default hidden behavior on the sphinx rendered scikit-learn.org. See: https://github.com/scikit-learn/scikit-learn/issues/21755 */display: inline-block !important;position: relative;}#sk-container-id-1 div.sk-text-repr-fallback {display: none;}</style><div id=\"sk-container-id-1\" class=\"sk-top-container\"><div class=\"sk-text-repr-fallback\"><pre>StandardScaler()</pre><b>In a Jupyter environment, please rerun this cell to show the HTML representation or trust the notebook. <br />On GitHub, the HTML representation is unable to render, please try loading this page with nbviewer.org.</b></div><div class=\"sk-container\" hidden><div class=\"sk-item\"><div class=\"sk-estimator sk-toggleable\"><input class=\"sk-toggleable__control sk-hidden--visually\" id=\"sk-estimator-id-1\" type=\"checkbox\" checked><label for=\"sk-estimator-id-1\" class=\"sk-toggleable__label sk-toggleable__label-arrow\">StandardScaler</label><div class=\"sk-toggleable__content\"><pre>StandardScaler()</pre></div></div></div></div></div>"
      ],
      "text/plain": [
       "StandardScaler()"
      ]
     },
     "execution_count": 36,
     "metadata": {},
     "output_type": "execute_result"
    }
   ],
   "source": [
    "scaler.fit(X_train)"
   ]
  },
  {
   "cell_type": "code",
   "execution_count": 37,
   "id": "8f0cf6f2-4467-41a8-b92f-386ca12e804e",
   "metadata": {},
   "outputs": [],
   "source": [
    "X_train_standardized=scaler.transform(X_train)"
   ]
  },
  {
   "cell_type": "code",
   "execution_count": 38,
   "id": "03d9819a-0b0f-4ae2-8a82-75c26ffa1dbc",
   "metadata": {
    "scrolled": true
   },
   "outputs": [
    {
     "name": "stdout",
     "output_type": "stream",
     "text": [
      "[[ 0.36767921  0.17617438  1.34179063 -1.4777477   0.2497862 ]\n",
      " [-0.54369618  0.17617438  1.34179063  0.96260158  0.50023083]\n",
      " [ 1.27905461  0.17617438  0.44676631  0.78829092  1.38890531]\n",
      " ...\n",
      " [ 1.64360477  0.77303846  1.34179063  1.31122291  0.54062512]\n",
      " [-0.17914602  0.77303846 -0.44825801  1.13691225 -0.36420708]\n",
      " [-0.72597126  0.77303846  1.34179063 -0.95481571 -0.03297386]]\n"
     ]
    }
   ],
   "source": [
    "print(X_train_standardized)"
   ]
  },
  {
   "cell_type": "code",
   "execution_count": 39,
   "id": "400f5edd-18b2-4a53-b866-505505ea684d",
   "metadata": {},
   "outputs": [
    {
     "name": "stdout",
     "output_type": "stream",
     "text": [
      "1.0\n"
     ]
    }
   ],
   "source": [
    "print(X_train_standardized.std())"
   ]
  },
  {
   "cell_type": "code",
   "execution_count": 40,
   "id": "5a8e9602-0027-4a9e-99d7-85961b69fc4b",
   "metadata": {},
   "outputs": [],
   "source": [
    "model=LinearRegression()"
   ]
  },
  {
   "cell_type": "code",
   "execution_count": 41,
   "id": "9d81076f-8b73-42d5-9de8-bf7f61dd0f89",
   "metadata": {},
   "outputs": [
    {
     "data": {
      "text/html": [
       "<style>#sk-container-id-2 {color: black;background-color: white;}#sk-container-id-2 pre{padding: 0;}#sk-container-id-2 div.sk-toggleable {background-color: white;}#sk-container-id-2 label.sk-toggleable__label {cursor: pointer;display: block;width: 100%;margin-bottom: 0;padding: 0.3em;box-sizing: border-box;text-align: center;}#sk-container-id-2 label.sk-toggleable__label-arrow:before {content: \"▸\";float: left;margin-right: 0.25em;color: #696969;}#sk-container-id-2 label.sk-toggleable__label-arrow:hover:before {color: black;}#sk-container-id-2 div.sk-estimator:hover label.sk-toggleable__label-arrow:before {color: black;}#sk-container-id-2 div.sk-toggleable__content {max-height: 0;max-width: 0;overflow: hidden;text-align: left;background-color: #f0f8ff;}#sk-container-id-2 div.sk-toggleable__content pre {margin: 0.2em;color: black;border-radius: 0.25em;background-color: #f0f8ff;}#sk-container-id-2 input.sk-toggleable__control:checked~div.sk-toggleable__content {max-height: 200px;max-width: 100%;overflow: auto;}#sk-container-id-2 input.sk-toggleable__control:checked~label.sk-toggleable__label-arrow:before {content: \"▾\";}#sk-container-id-2 div.sk-estimator input.sk-toggleable__control:checked~label.sk-toggleable__label {background-color: #d4ebff;}#sk-container-id-2 div.sk-label input.sk-toggleable__control:checked~label.sk-toggleable__label {background-color: #d4ebff;}#sk-container-id-2 input.sk-hidden--visually {border: 0;clip: rect(1px 1px 1px 1px);clip: rect(1px, 1px, 1px, 1px);height: 1px;margin: -1px;overflow: hidden;padding: 0;position: absolute;width: 1px;}#sk-container-id-2 div.sk-estimator {font-family: monospace;background-color: #f0f8ff;border: 1px dotted black;border-radius: 0.25em;box-sizing: border-box;margin-bottom: 0.5em;}#sk-container-id-2 div.sk-estimator:hover {background-color: #d4ebff;}#sk-container-id-2 div.sk-parallel-item::after {content: \"\";width: 100%;border-bottom: 1px solid gray;flex-grow: 1;}#sk-container-id-2 div.sk-label:hover label.sk-toggleable__label {background-color: #d4ebff;}#sk-container-id-2 div.sk-serial::before {content: \"\";position: absolute;border-left: 1px solid gray;box-sizing: border-box;top: 0;bottom: 0;left: 50%;z-index: 0;}#sk-container-id-2 div.sk-serial {display: flex;flex-direction: column;align-items: center;background-color: white;padding-right: 0.2em;padding-left: 0.2em;position: relative;}#sk-container-id-2 div.sk-item {position: relative;z-index: 1;}#sk-container-id-2 div.sk-parallel {display: flex;align-items: stretch;justify-content: center;background-color: white;position: relative;}#sk-container-id-2 div.sk-item::before, #sk-container-id-2 div.sk-parallel-item::before {content: \"\";position: absolute;border-left: 1px solid gray;box-sizing: border-box;top: 0;bottom: 0;left: 50%;z-index: -1;}#sk-container-id-2 div.sk-parallel-item {display: flex;flex-direction: column;z-index: 1;position: relative;background-color: white;}#sk-container-id-2 div.sk-parallel-item:first-child::after {align-self: flex-end;width: 50%;}#sk-container-id-2 div.sk-parallel-item:last-child::after {align-self: flex-start;width: 50%;}#sk-container-id-2 div.sk-parallel-item:only-child::after {width: 0;}#sk-container-id-2 div.sk-dashed-wrapped {border: 1px dashed gray;margin: 0 0.4em 0.5em 0.4em;box-sizing: border-box;padding-bottom: 0.4em;background-color: white;}#sk-container-id-2 div.sk-label label {font-family: monospace;font-weight: bold;display: inline-block;line-height: 1.2em;}#sk-container-id-2 div.sk-label-container {text-align: center;}#sk-container-id-2 div.sk-container {/* jupyter's `normalize.less` sets `[hidden] { display: none; }` but bootstrap.min.css set `[hidden] { display: none !important; }` so we also need the `!important` here to be able to override the default hidden behavior on the sphinx rendered scikit-learn.org. See: https://github.com/scikit-learn/scikit-learn/issues/21755 */display: inline-block !important;position: relative;}#sk-container-id-2 div.sk-text-repr-fallback {display: none;}</style><div id=\"sk-container-id-2\" class=\"sk-top-container\"><div class=\"sk-text-repr-fallback\"><pre>LinearRegression()</pre><b>In a Jupyter environment, please rerun this cell to show the HTML representation or trust the notebook. <br />On GitHub, the HTML representation is unable to render, please try loading this page with nbviewer.org.</b></div><div class=\"sk-container\" hidden><div class=\"sk-item\"><div class=\"sk-estimator sk-toggleable\"><input class=\"sk-toggleable__control sk-hidden--visually\" id=\"sk-estimator-id-2\" type=\"checkbox\" checked><label for=\"sk-estimator-id-2\" class=\"sk-toggleable__label sk-toggleable__label-arrow\">LinearRegression</label><div class=\"sk-toggleable__content\"><pre>LinearRegression()</pre></div></div></div></div></div>"
      ],
      "text/plain": [
       "LinearRegression()"
      ]
     },
     "execution_count": 41,
     "metadata": {},
     "output_type": "execute_result"
    }
   ],
   "source": [
    "model.fit(X_train,Y_train)"
   ]
  },
  {
   "cell_type": "code",
   "execution_count": 42,
   "id": "c37f4738-afa4-4188-8c16-3793111a919b",
   "metadata": {},
   "outputs": [],
   "source": [
    "y_predict=model.predict(X_test)"
   ]
  },
  {
   "cell_type": "code",
   "execution_count": 43,
   "id": "0cf456a2-d1fa-4358-ba7a-6f61f0ae4442",
   "metadata": {},
   "outputs": [],
   "source": [
    "acc=r2_score(Y_test,y_predict)*100"
   ]
  },
  {
   "cell_type": "code",
   "execution_count": 44,
   "id": "331a0029-9e88-491c-8476-84eafc33c676",
   "metadata": {},
   "outputs": [
    {
     "data": {
      "text/plain": [
       "91.81223492383577"
      ]
     },
     "execution_count": 44,
     "metadata": {},
     "output_type": "execute_result"
    }
   ],
   "source": [
    "acc\n",
    "#linear Regression"
   ]
  },
  {
   "cell_type": "code",
   "execution_count": 45,
   "id": "d422a134-a240-47fb-b357-e9cc4bfe3270",
   "metadata": {},
   "outputs": [],
   "source": [
    "from sklearn.linear_model import Lasso"
   ]
  },
  {
   "cell_type": "code",
   "execution_count": 46,
   "id": "76e6cf19-76cb-437f-b501-0640edd3fd28",
   "metadata": {},
   "outputs": [],
   "source": [
    "model1=Lasso()"
   ]
  },
  {
   "cell_type": "code",
   "execution_count": 47,
   "id": "ee4ddd4b-278e-4df6-b2a5-e2b02026a4f4",
   "metadata": {},
   "outputs": [
    {
     "data": {
      "text/html": [
       "<style>#sk-container-id-3 {color: black;background-color: white;}#sk-container-id-3 pre{padding: 0;}#sk-container-id-3 div.sk-toggleable {background-color: white;}#sk-container-id-3 label.sk-toggleable__label {cursor: pointer;display: block;width: 100%;margin-bottom: 0;padding: 0.3em;box-sizing: border-box;text-align: center;}#sk-container-id-3 label.sk-toggleable__label-arrow:before {content: \"▸\";float: left;margin-right: 0.25em;color: #696969;}#sk-container-id-3 label.sk-toggleable__label-arrow:hover:before {color: black;}#sk-container-id-3 div.sk-estimator:hover label.sk-toggleable__label-arrow:before {color: black;}#sk-container-id-3 div.sk-toggleable__content {max-height: 0;max-width: 0;overflow: hidden;text-align: left;background-color: #f0f8ff;}#sk-container-id-3 div.sk-toggleable__content pre {margin: 0.2em;color: black;border-radius: 0.25em;background-color: #f0f8ff;}#sk-container-id-3 input.sk-toggleable__control:checked~div.sk-toggleable__content {max-height: 200px;max-width: 100%;overflow: auto;}#sk-container-id-3 input.sk-toggleable__control:checked~label.sk-toggleable__label-arrow:before {content: \"▾\";}#sk-container-id-3 div.sk-estimator input.sk-toggleable__control:checked~label.sk-toggleable__label {background-color: #d4ebff;}#sk-container-id-3 div.sk-label input.sk-toggleable__control:checked~label.sk-toggleable__label {background-color: #d4ebff;}#sk-container-id-3 input.sk-hidden--visually {border: 0;clip: rect(1px 1px 1px 1px);clip: rect(1px, 1px, 1px, 1px);height: 1px;margin: -1px;overflow: hidden;padding: 0;position: absolute;width: 1px;}#sk-container-id-3 div.sk-estimator {font-family: monospace;background-color: #f0f8ff;border: 1px dotted black;border-radius: 0.25em;box-sizing: border-box;margin-bottom: 0.5em;}#sk-container-id-3 div.sk-estimator:hover {background-color: #d4ebff;}#sk-container-id-3 div.sk-parallel-item::after {content: \"\";width: 100%;border-bottom: 1px solid gray;flex-grow: 1;}#sk-container-id-3 div.sk-label:hover label.sk-toggleable__label {background-color: #d4ebff;}#sk-container-id-3 div.sk-serial::before {content: \"\";position: absolute;border-left: 1px solid gray;box-sizing: border-box;top: 0;bottom: 0;left: 50%;z-index: 0;}#sk-container-id-3 div.sk-serial {display: flex;flex-direction: column;align-items: center;background-color: white;padding-right: 0.2em;padding-left: 0.2em;position: relative;}#sk-container-id-3 div.sk-item {position: relative;z-index: 1;}#sk-container-id-3 div.sk-parallel {display: flex;align-items: stretch;justify-content: center;background-color: white;position: relative;}#sk-container-id-3 div.sk-item::before, #sk-container-id-3 div.sk-parallel-item::before {content: \"\";position: absolute;border-left: 1px solid gray;box-sizing: border-box;top: 0;bottom: 0;left: 50%;z-index: -1;}#sk-container-id-3 div.sk-parallel-item {display: flex;flex-direction: column;z-index: 1;position: relative;background-color: white;}#sk-container-id-3 div.sk-parallel-item:first-child::after {align-self: flex-end;width: 50%;}#sk-container-id-3 div.sk-parallel-item:last-child::after {align-self: flex-start;width: 50%;}#sk-container-id-3 div.sk-parallel-item:only-child::after {width: 0;}#sk-container-id-3 div.sk-dashed-wrapped {border: 1px dashed gray;margin: 0 0.4em 0.5em 0.4em;box-sizing: border-box;padding-bottom: 0.4em;background-color: white;}#sk-container-id-3 div.sk-label label {font-family: monospace;font-weight: bold;display: inline-block;line-height: 1.2em;}#sk-container-id-3 div.sk-label-container {text-align: center;}#sk-container-id-3 div.sk-container {/* jupyter's `normalize.less` sets `[hidden] { display: none; }` but bootstrap.min.css set `[hidden] { display: none !important; }` so we also need the `!important` here to be able to override the default hidden behavior on the sphinx rendered scikit-learn.org. See: https://github.com/scikit-learn/scikit-learn/issues/21755 */display: inline-block !important;position: relative;}#sk-container-id-3 div.sk-text-repr-fallback {display: none;}</style><div id=\"sk-container-id-3\" class=\"sk-top-container\"><div class=\"sk-text-repr-fallback\"><pre>Lasso()</pre><b>In a Jupyter environment, please rerun this cell to show the HTML representation or trust the notebook. <br />On GitHub, the HTML representation is unable to render, please try loading this page with nbviewer.org.</b></div><div class=\"sk-container\" hidden><div class=\"sk-item\"><div class=\"sk-estimator sk-toggleable\"><input class=\"sk-toggleable__control sk-hidden--visually\" id=\"sk-estimator-id-3\" type=\"checkbox\" checked><label for=\"sk-estimator-id-3\" class=\"sk-toggleable__label sk-toggleable__label-arrow\">Lasso</label><div class=\"sk-toggleable__content\"><pre>Lasso()</pre></div></div></div></div></div>"
      ],
      "text/plain": [
       "Lasso()"
      ]
     },
     "execution_count": 47,
     "metadata": {},
     "output_type": "execute_result"
    }
   ],
   "source": [
    "\n",
    "model1.fit(X_train,Y_train)"
   ]
  },
  {
   "cell_type": "code",
   "execution_count": 48,
   "id": "c5c9ba33-2513-4f2c-8b79-2eb962814c89",
   "metadata": {},
   "outputs": [],
   "source": [
    "y_pred1=model1.predict(X_test)"
   ]
  },
  {
   "cell_type": "code",
   "execution_count": 49,
   "id": "5730b9ac-62ff-46f5-aa3c-ee5493de32bd",
   "metadata": {},
   "outputs": [],
   "source": [
    "acc1=r2_score(Y_test,y_pred1)*100"
   ]
  },
  {
   "cell_type": "code",
   "execution_count": 50,
   "id": "0f45fa93-7493-4e79-909a-be25e3f0b481",
   "metadata": {
    "scrolled": true
   },
   "outputs": [
    {
     "data": {
      "text/plain": [
       "91.81310107130636"
      ]
     },
     "execution_count": 50,
     "metadata": {},
     "output_type": "execute_result"
    }
   ],
   "source": [
    "acc1\n",
    "#lasso Regression"
   ]
  },
  {
   "cell_type": "code",
   "execution_count": 51,
   "id": "574f0d73-fc13-42ec-9852-396dfb1d84d6",
   "metadata": {},
   "outputs": [],
   "source": [
    "from sklearn.tree import DecisionTreeRegressor"
   ]
  },
  {
   "cell_type": "code",
   "execution_count": 52,
   "id": "2177f1b6-5637-4091-87f7-85e4be8bc7c9",
   "metadata": {},
   "outputs": [],
   "source": [
    "model2=DecisionTreeRegressor()"
   ]
  },
  {
   "cell_type": "code",
   "execution_count": 53,
   "id": "37b330d3-9af9-48f3-9230-252e0e427219",
   "metadata": {},
   "outputs": [
    {
     "data": {
      "text/html": [
       "<style>#sk-container-id-4 {color: black;background-color: white;}#sk-container-id-4 pre{padding: 0;}#sk-container-id-4 div.sk-toggleable {background-color: white;}#sk-container-id-4 label.sk-toggleable__label {cursor: pointer;display: block;width: 100%;margin-bottom: 0;padding: 0.3em;box-sizing: border-box;text-align: center;}#sk-container-id-4 label.sk-toggleable__label-arrow:before {content: \"▸\";float: left;margin-right: 0.25em;color: #696969;}#sk-container-id-4 label.sk-toggleable__label-arrow:hover:before {color: black;}#sk-container-id-4 div.sk-estimator:hover label.sk-toggleable__label-arrow:before {color: black;}#sk-container-id-4 div.sk-toggleable__content {max-height: 0;max-width: 0;overflow: hidden;text-align: left;background-color: #f0f8ff;}#sk-container-id-4 div.sk-toggleable__content pre {margin: 0.2em;color: black;border-radius: 0.25em;background-color: #f0f8ff;}#sk-container-id-4 input.sk-toggleable__control:checked~div.sk-toggleable__content {max-height: 200px;max-width: 100%;overflow: auto;}#sk-container-id-4 input.sk-toggleable__control:checked~label.sk-toggleable__label-arrow:before {content: \"▾\";}#sk-container-id-4 div.sk-estimator input.sk-toggleable__control:checked~label.sk-toggleable__label {background-color: #d4ebff;}#sk-container-id-4 div.sk-label input.sk-toggleable__control:checked~label.sk-toggleable__label {background-color: #d4ebff;}#sk-container-id-4 input.sk-hidden--visually {border: 0;clip: rect(1px 1px 1px 1px);clip: rect(1px, 1px, 1px, 1px);height: 1px;margin: -1px;overflow: hidden;padding: 0;position: absolute;width: 1px;}#sk-container-id-4 div.sk-estimator {font-family: monospace;background-color: #f0f8ff;border: 1px dotted black;border-radius: 0.25em;box-sizing: border-box;margin-bottom: 0.5em;}#sk-container-id-4 div.sk-estimator:hover {background-color: #d4ebff;}#sk-container-id-4 div.sk-parallel-item::after {content: \"\";width: 100%;border-bottom: 1px solid gray;flex-grow: 1;}#sk-container-id-4 div.sk-label:hover label.sk-toggleable__label {background-color: #d4ebff;}#sk-container-id-4 div.sk-serial::before {content: \"\";position: absolute;border-left: 1px solid gray;box-sizing: border-box;top: 0;bottom: 0;left: 50%;z-index: 0;}#sk-container-id-4 div.sk-serial {display: flex;flex-direction: column;align-items: center;background-color: white;padding-right: 0.2em;padding-left: 0.2em;position: relative;}#sk-container-id-4 div.sk-item {position: relative;z-index: 1;}#sk-container-id-4 div.sk-parallel {display: flex;align-items: stretch;justify-content: center;background-color: white;position: relative;}#sk-container-id-4 div.sk-item::before, #sk-container-id-4 div.sk-parallel-item::before {content: \"\";position: absolute;border-left: 1px solid gray;box-sizing: border-box;top: 0;bottom: 0;left: 50%;z-index: -1;}#sk-container-id-4 div.sk-parallel-item {display: flex;flex-direction: column;z-index: 1;position: relative;background-color: white;}#sk-container-id-4 div.sk-parallel-item:first-child::after {align-self: flex-end;width: 50%;}#sk-container-id-4 div.sk-parallel-item:last-child::after {align-self: flex-start;width: 50%;}#sk-container-id-4 div.sk-parallel-item:only-child::after {width: 0;}#sk-container-id-4 div.sk-dashed-wrapped {border: 1px dashed gray;margin: 0 0.4em 0.5em 0.4em;box-sizing: border-box;padding-bottom: 0.4em;background-color: white;}#sk-container-id-4 div.sk-label label {font-family: monospace;font-weight: bold;display: inline-block;line-height: 1.2em;}#sk-container-id-4 div.sk-label-container {text-align: center;}#sk-container-id-4 div.sk-container {/* jupyter's `normalize.less` sets `[hidden] { display: none; }` but bootstrap.min.css set `[hidden] { display: none !important; }` so we also need the `!important` here to be able to override the default hidden behavior on the sphinx rendered scikit-learn.org. See: https://github.com/scikit-learn/scikit-learn/issues/21755 */display: inline-block !important;position: relative;}#sk-container-id-4 div.sk-text-repr-fallback {display: none;}</style><div id=\"sk-container-id-4\" class=\"sk-top-container\"><div class=\"sk-text-repr-fallback\"><pre>DecisionTreeRegressor()</pre><b>In a Jupyter environment, please rerun this cell to show the HTML representation or trust the notebook. <br />On GitHub, the HTML representation is unable to render, please try loading this page with nbviewer.org.</b></div><div class=\"sk-container\" hidden><div class=\"sk-item\"><div class=\"sk-estimator sk-toggleable\"><input class=\"sk-toggleable__control sk-hidden--visually\" id=\"sk-estimator-id-4\" type=\"checkbox\" checked><label for=\"sk-estimator-id-4\" class=\"sk-toggleable__label sk-toggleable__label-arrow\">DecisionTreeRegressor</label><div class=\"sk-toggleable__content\"><pre>DecisionTreeRegressor()</pre></div></div></div></div></div>"
      ],
      "text/plain": [
       "DecisionTreeRegressor()"
      ]
     },
     "execution_count": 53,
     "metadata": {},
     "output_type": "execute_result"
    }
   ],
   "source": [
    "model2.fit(X_train,Y_train)"
   ]
  },
  {
   "cell_type": "code",
   "execution_count": 54,
   "id": "e6a6de8f-4ef2-4409-a987-b3b5d8308fc3",
   "metadata": {},
   "outputs": [],
   "source": [
    "y_pred2=model2.predict(X_test)"
   ]
  },
  {
   "cell_type": "code",
   "execution_count": 55,
   "id": "7c904ee0-07a3-4052-b298-47923839daac",
   "metadata": {},
   "outputs": [],
   "source": [
    "acc2=r2_score(Y_test,y_pred2)*100"
   ]
  },
  {
   "cell_type": "code",
   "execution_count": 56,
   "id": "c2cdf172-da46-457e-9f42-036f1136e5d7",
   "metadata": {},
   "outputs": [
    {
     "data": {
      "text/plain": [
       "83.20947252689813"
      ]
     },
     "execution_count": 56,
     "metadata": {},
     "output_type": "execute_result"
    }
   ],
   "source": [
    "acc2\n",
    "#Decison Tree Regressor"
   ]
  },
  {
   "cell_type": "code",
   "execution_count": 57,
   "id": "555f0000-38f9-4cf9-b14b-a969af8d63da",
   "metadata": {},
   "outputs": [],
   "source": [
    "model3=RandomForestRegressor()"
   ]
  },
  {
   "cell_type": "code",
   "execution_count": 58,
   "id": "ced1290c-5e16-4b96-b9ae-d6b54a9bedc3",
   "metadata": {
    "scrolled": true
   },
   "outputs": [
    {
     "data": {
      "text/html": [
       "<style>#sk-container-id-5 {color: black;background-color: white;}#sk-container-id-5 pre{padding: 0;}#sk-container-id-5 div.sk-toggleable {background-color: white;}#sk-container-id-5 label.sk-toggleable__label {cursor: pointer;display: block;width: 100%;margin-bottom: 0;padding: 0.3em;box-sizing: border-box;text-align: center;}#sk-container-id-5 label.sk-toggleable__label-arrow:before {content: \"▸\";float: left;margin-right: 0.25em;color: #696969;}#sk-container-id-5 label.sk-toggleable__label-arrow:hover:before {color: black;}#sk-container-id-5 div.sk-estimator:hover label.sk-toggleable__label-arrow:before {color: black;}#sk-container-id-5 div.sk-toggleable__content {max-height: 0;max-width: 0;overflow: hidden;text-align: left;background-color: #f0f8ff;}#sk-container-id-5 div.sk-toggleable__content pre {margin: 0.2em;color: black;border-radius: 0.25em;background-color: #f0f8ff;}#sk-container-id-5 input.sk-toggleable__control:checked~div.sk-toggleable__content {max-height: 200px;max-width: 100%;overflow: auto;}#sk-container-id-5 input.sk-toggleable__control:checked~label.sk-toggleable__label-arrow:before {content: \"▾\";}#sk-container-id-5 div.sk-estimator input.sk-toggleable__control:checked~label.sk-toggleable__label {background-color: #d4ebff;}#sk-container-id-5 div.sk-label input.sk-toggleable__control:checked~label.sk-toggleable__label {background-color: #d4ebff;}#sk-container-id-5 input.sk-hidden--visually {border: 0;clip: rect(1px 1px 1px 1px);clip: rect(1px, 1px, 1px, 1px);height: 1px;margin: -1px;overflow: hidden;padding: 0;position: absolute;width: 1px;}#sk-container-id-5 div.sk-estimator {font-family: monospace;background-color: #f0f8ff;border: 1px dotted black;border-radius: 0.25em;box-sizing: border-box;margin-bottom: 0.5em;}#sk-container-id-5 div.sk-estimator:hover {background-color: #d4ebff;}#sk-container-id-5 div.sk-parallel-item::after {content: \"\";width: 100%;border-bottom: 1px solid gray;flex-grow: 1;}#sk-container-id-5 div.sk-label:hover label.sk-toggleable__label {background-color: #d4ebff;}#sk-container-id-5 div.sk-serial::before {content: \"\";position: absolute;border-left: 1px solid gray;box-sizing: border-box;top: 0;bottom: 0;left: 50%;z-index: 0;}#sk-container-id-5 div.sk-serial {display: flex;flex-direction: column;align-items: center;background-color: white;padding-right: 0.2em;padding-left: 0.2em;position: relative;}#sk-container-id-5 div.sk-item {position: relative;z-index: 1;}#sk-container-id-5 div.sk-parallel {display: flex;align-items: stretch;justify-content: center;background-color: white;position: relative;}#sk-container-id-5 div.sk-item::before, #sk-container-id-5 div.sk-parallel-item::before {content: \"\";position: absolute;border-left: 1px solid gray;box-sizing: border-box;top: 0;bottom: 0;left: 50%;z-index: -1;}#sk-container-id-5 div.sk-parallel-item {display: flex;flex-direction: column;z-index: 1;position: relative;background-color: white;}#sk-container-id-5 div.sk-parallel-item:first-child::after {align-self: flex-end;width: 50%;}#sk-container-id-5 div.sk-parallel-item:last-child::after {align-self: flex-start;width: 50%;}#sk-container-id-5 div.sk-parallel-item:only-child::after {width: 0;}#sk-container-id-5 div.sk-dashed-wrapped {border: 1px dashed gray;margin: 0 0.4em 0.5em 0.4em;box-sizing: border-box;padding-bottom: 0.4em;background-color: white;}#sk-container-id-5 div.sk-label label {font-family: monospace;font-weight: bold;display: inline-block;line-height: 1.2em;}#sk-container-id-5 div.sk-label-container {text-align: center;}#sk-container-id-5 div.sk-container {/* jupyter's `normalize.less` sets `[hidden] { display: none; }` but bootstrap.min.css set `[hidden] { display: none !important; }` so we also need the `!important` here to be able to override the default hidden behavior on the sphinx rendered scikit-learn.org. See: https://github.com/scikit-learn/scikit-learn/issues/21755 */display: inline-block !important;position: relative;}#sk-container-id-5 div.sk-text-repr-fallback {display: none;}</style><div id=\"sk-container-id-5\" class=\"sk-top-container\"><div class=\"sk-text-repr-fallback\"><pre>RandomForestRegressor()</pre><b>In a Jupyter environment, please rerun this cell to show the HTML representation or trust the notebook. <br />On GitHub, the HTML representation is unable to render, please try loading this page with nbviewer.org.</b></div><div class=\"sk-container\" hidden><div class=\"sk-item\"><div class=\"sk-estimator sk-toggleable\"><input class=\"sk-toggleable__control sk-hidden--visually\" id=\"sk-estimator-id-5\" type=\"checkbox\" checked><label for=\"sk-estimator-id-5\" class=\"sk-toggleable__label sk-toggleable__label-arrow\">RandomForestRegressor</label><div class=\"sk-toggleable__content\"><pre>RandomForestRegressor()</pre></div></div></div></div></div>"
      ],
      "text/plain": [
       "RandomForestRegressor()"
      ]
     },
     "execution_count": 58,
     "metadata": {},
     "output_type": "execute_result"
    }
   ],
   "source": [
    "model3.fit(X_train,Y_train)"
   ]
  },
  {
   "cell_type": "code",
   "execution_count": 59,
   "id": "122384bb-9fa9-419d-ae15-93eb2aa6e6d0",
   "metadata": {},
   "outputs": [],
   "source": [
    "y_pred3=model3.predict(X_test)"
   ]
  },
  {
   "cell_type": "code",
   "execution_count": 60,
   "id": "1c23bae5-b463-43ff-98df-e7de8afce5c2",
   "metadata": {},
   "outputs": [],
   "source": [
    "acc3=r2_score(Y_test,y_pred3)*100"
   ]
  },
  {
   "cell_type": "code",
   "execution_count": 61,
   "id": "00cf9df7-4d3c-4d54-a482-b88cfaa9e258",
   "metadata": {
    "scrolled": true
   },
   "outputs": [
    {
     "data": {
      "text/plain": [
       "90.47737468828043"
      ]
     },
     "execution_count": 61,
     "metadata": {},
     "output_type": "execute_result"
    }
   ],
   "source": [
    "acc3\n",
    "#RandomForest Regressor"
   ]
  },
  {
   "cell_type": "code",
   "execution_count": 62,
   "id": "82e179d1-dd9f-4c96-a04d-f1463118005c",
   "metadata": {},
   "outputs": [],
   "source": [
    "model4=SVR()"
   ]
  },
  {
   "cell_type": "code",
   "execution_count": 63,
   "id": "f3b07881-6966-4cb8-95b9-1764bbc6666e",
   "metadata": {},
   "outputs": [
    {
     "data": {
      "text/html": [
       "<style>#sk-container-id-6 {color: black;background-color: white;}#sk-container-id-6 pre{padding: 0;}#sk-container-id-6 div.sk-toggleable {background-color: white;}#sk-container-id-6 label.sk-toggleable__label {cursor: pointer;display: block;width: 100%;margin-bottom: 0;padding: 0.3em;box-sizing: border-box;text-align: center;}#sk-container-id-6 label.sk-toggleable__label-arrow:before {content: \"▸\";float: left;margin-right: 0.25em;color: #696969;}#sk-container-id-6 label.sk-toggleable__label-arrow:hover:before {color: black;}#sk-container-id-6 div.sk-estimator:hover label.sk-toggleable__label-arrow:before {color: black;}#sk-container-id-6 div.sk-toggleable__content {max-height: 0;max-width: 0;overflow: hidden;text-align: left;background-color: #f0f8ff;}#sk-container-id-6 div.sk-toggleable__content pre {margin: 0.2em;color: black;border-radius: 0.25em;background-color: #f0f8ff;}#sk-container-id-6 input.sk-toggleable__control:checked~div.sk-toggleable__content {max-height: 200px;max-width: 100%;overflow: auto;}#sk-container-id-6 input.sk-toggleable__control:checked~label.sk-toggleable__label-arrow:before {content: \"▾\";}#sk-container-id-6 div.sk-estimator input.sk-toggleable__control:checked~label.sk-toggleable__label {background-color: #d4ebff;}#sk-container-id-6 div.sk-label input.sk-toggleable__control:checked~label.sk-toggleable__label {background-color: #d4ebff;}#sk-container-id-6 input.sk-hidden--visually {border: 0;clip: rect(1px 1px 1px 1px);clip: rect(1px, 1px, 1px, 1px);height: 1px;margin: -1px;overflow: hidden;padding: 0;position: absolute;width: 1px;}#sk-container-id-6 div.sk-estimator {font-family: monospace;background-color: #f0f8ff;border: 1px dotted black;border-radius: 0.25em;box-sizing: border-box;margin-bottom: 0.5em;}#sk-container-id-6 div.sk-estimator:hover {background-color: #d4ebff;}#sk-container-id-6 div.sk-parallel-item::after {content: \"\";width: 100%;border-bottom: 1px solid gray;flex-grow: 1;}#sk-container-id-6 div.sk-label:hover label.sk-toggleable__label {background-color: #d4ebff;}#sk-container-id-6 div.sk-serial::before {content: \"\";position: absolute;border-left: 1px solid gray;box-sizing: border-box;top: 0;bottom: 0;left: 50%;z-index: 0;}#sk-container-id-6 div.sk-serial {display: flex;flex-direction: column;align-items: center;background-color: white;padding-right: 0.2em;padding-left: 0.2em;position: relative;}#sk-container-id-6 div.sk-item {position: relative;z-index: 1;}#sk-container-id-6 div.sk-parallel {display: flex;align-items: stretch;justify-content: center;background-color: white;position: relative;}#sk-container-id-6 div.sk-item::before, #sk-container-id-6 div.sk-parallel-item::before {content: \"\";position: absolute;border-left: 1px solid gray;box-sizing: border-box;top: 0;bottom: 0;left: 50%;z-index: -1;}#sk-container-id-6 div.sk-parallel-item {display: flex;flex-direction: column;z-index: 1;position: relative;background-color: white;}#sk-container-id-6 div.sk-parallel-item:first-child::after {align-self: flex-end;width: 50%;}#sk-container-id-6 div.sk-parallel-item:last-child::after {align-self: flex-start;width: 50%;}#sk-container-id-6 div.sk-parallel-item:only-child::after {width: 0;}#sk-container-id-6 div.sk-dashed-wrapped {border: 1px dashed gray;margin: 0 0.4em 0.5em 0.4em;box-sizing: border-box;padding-bottom: 0.4em;background-color: white;}#sk-container-id-6 div.sk-label label {font-family: monospace;font-weight: bold;display: inline-block;line-height: 1.2em;}#sk-container-id-6 div.sk-label-container {text-align: center;}#sk-container-id-6 div.sk-container {/* jupyter's `normalize.less` sets `[hidden] { display: none; }` but bootstrap.min.css set `[hidden] { display: none !important; }` so we also need the `!important` here to be able to override the default hidden behavior on the sphinx rendered scikit-learn.org. See: https://github.com/scikit-learn/scikit-learn/issues/21755 */display: inline-block !important;position: relative;}#sk-container-id-6 div.sk-text-repr-fallback {display: none;}</style><div id=\"sk-container-id-6\" class=\"sk-top-container\"><div class=\"sk-text-repr-fallback\"><pre>SVR()</pre><b>In a Jupyter environment, please rerun this cell to show the HTML representation or trust the notebook. <br />On GitHub, the HTML representation is unable to render, please try loading this page with nbviewer.org.</b></div><div class=\"sk-container\" hidden><div class=\"sk-item\"><div class=\"sk-estimator sk-toggleable\"><input class=\"sk-toggleable__control sk-hidden--visually\" id=\"sk-estimator-id-6\" type=\"checkbox\" checked><label for=\"sk-estimator-id-6\" class=\"sk-toggleable__label sk-toggleable__label-arrow\">SVR</label><div class=\"sk-toggleable__content\"><pre>SVR()</pre></div></div></div></div></div>"
      ],
      "text/plain": [
       "SVR()"
      ]
     },
     "execution_count": 63,
     "metadata": {},
     "output_type": "execute_result"
    }
   ],
   "source": [
    "model4.fit(X_train,Y_train)"
   ]
  },
  {
   "cell_type": "code",
   "execution_count": 64,
   "id": "199a1981-1802-4754-b414-cbed1fe94e6a",
   "metadata": {},
   "outputs": [],
   "source": [
    "y_pred4=model4.predict(X_test)"
   ]
  },
  {
   "cell_type": "code",
   "execution_count": 65,
   "id": "ee1448cb-7304-4f4d-86d5-17f71602c21d",
   "metadata": {},
   "outputs": [],
   "source": [
    "acc4=r2_score(Y_test,y_pred4)*100"
   ]
  },
  {
   "cell_type": "code",
   "execution_count": 66,
   "id": "d3a3b404-f3ad-4d16-9916-34e7fe2fe7a8",
   "metadata": {
    "scrolled": true
   },
   "outputs": [
    {
     "data": {
      "text/plain": [
       "60.62690850127284"
      ]
     },
     "execution_count": 66,
     "metadata": {},
     "output_type": "execute_result"
    }
   ],
   "source": [
    "acc4\n",
    "#SVR"
   ]
  },
  {
   "cell_type": "code",
   "execution_count": 67,
   "id": "f677af52-3499-434c-9f34-b802d6fb3bda",
   "metadata": {},
   "outputs": [],
   "source": [
    "from sklearn.model_selection import KFold"
   ]
  },
  {
   "cell_type": "code",
   "execution_count": 68,
   "id": "4c169781-7631-4714-91c5-3dad1835fd08",
   "metadata": {},
   "outputs": [],
   "source": [
    "\n",
    "k = 5\n",
    "kf = KFold(n_splits=k, shuffle=True, random_state=42)  # Shuffle for randomness\n"
   ]
  },
  {
   "cell_type": "code",
   "execution_count": null,
   "id": "0a3a09cb-7697-4e31-8190-053f06c93cb1",
   "metadata": {},
   "outputs": [],
   "source": []
  },
  {
   "cell_type": "code",
   "execution_count": 69,
   "id": "2c47d786-7c95-40ed-9c4c-ad0defffd853",
   "metadata": {},
   "outputs": [
    {
     "name": "stdout",
     "output_type": "stream",
     "text": [
      "Average MSE across 5 folds: 108449.12\n",
      "Average R^2 across 5 folds: 0.90\n"
     ]
    }
   ],
   "source": [
    "mse_scores = []\n",
    "r2_scores = []\n",
    "\n",
    "\n",
    "    \n",
    "model3.fit(X_train, Y_train)  # Train the model\n",
    "predictions = model3.predict(X_test)  # Make predictions\n",
    "mse = mean_squared_error(Y_test, predictions)  # Calculate Mean Squared Error\n",
    "r2 = r2_score(Y_test, predictions)              # Calculate R^2 Score\n",
    "mse_scores.append(mse)  # Store the MSE score\n",
    "r2_scores.append(r2)    # Store the R^2 score\n",
    "\n",
    "# Calculate and print the average scores\n",
    "average_mse = np.mean(mse_scores)\n",
    "average_r2 = np.mean(r2_scores)\n",
    "\n",
    "print(f'Average MSE across {k} folds: {average_mse:.2f}')\n",
    "print(f'Average R^2 across {k} folds: {average_r2:.2f}')\n"
   ]
  },
  {
   "cell_type": "code",
   "execution_count": 70,
   "id": "0199cfa0-4064-47f3-abd8-afc217066d49",
   "metadata": {},
   "outputs": [],
   "source": [
    "from sklearn.model_selection import cross_val_score"
   ]
  },
  {
   "cell_type": "code",
   "execution_count": 71,
   "id": "217e5bfe-46c6-45f0-ad27-fcb6af97c5d3",
   "metadata": {},
   "outputs": [],
   "source": [
    "models=[LinearRegression,SVR,KNeighborsRegressor(),RandomForestRegressor(),DecisionTreeRegressor()]"
   ]
  },
  {
   "cell_type": "code",
   "execution_count": 72,
   "id": "21e475de-f54a-4143-8653-30b9fa55c174",
   "metadata": {},
   "outputs": [
    {
     "name": "stdout",
     "output_type": "stream",
     "text": [
      "108449.11577143287\n"
     ]
    }
   ],
   "source": [
    "def compare_models_cross_validation():\n",
    "    for model in models:\n",
    "        cv_score=cross_val_score(models,X,Y,cv=5)\n",
    "        mse=sum(cv_score)/len(cv_score)\n",
    "        mse=mse*100\n",
    "        mse=round(mse,2)\n",
    "    print(cv_score)\n",
    "print(mse)\n",
    "\n",
    "        "
   ]
  },
  {
   "cell_type": "code",
   "execution_count": 73,
   "id": "66c07365-0dc7-45e2-8b72-c39730cb4168",
   "metadata": {},
   "outputs": [],
   "source": [
    "import pickle\n",
    "from tkinter import*\n",
    "import tkinter as tk\n",
    "from tkinter import ttk\n",
    "from tkinter import messagebox\n",
    "from PIL import ImageTk,Image"
   ]
  },
  {
   "cell_type": "code",
   "execution_count": 74,
   "id": "e56bafcf-433b-49af-8068-df94c8159cb3",
   "metadata": {},
   "outputs": [],
   "source": [
    "filename=\"miniproject\"\n",
    "pickle.dump(model,open(filename,'wb'))\n",
    "model22=pickle.load(open(filename,'rb'))\n",
    "with open('model22.pkl','wb') as files:\n",
    "    pickle.dump(model22,files)"
   ]
  },
  {
   "cell_type": "code",
   "execution_count": null,
   "id": "f98e5e2e-4290-451b-bacc-dc9f0f9dd5ff",
   "metadata": {},
   "outputs": [
    {
     "name": "stderr",
     "output_type": "stream",
     "text": [
      "C:\\Users\\Likhitha\\anaconda3\\Lib\\site-packages\\sklearn\\base.py:439: UserWarning: X does not have valid feature names, but LinearRegression was fitted with feature names\n",
      "  warnings.warn(\n",
      "C:\\Users\\Likhitha\\AppData\\Local\\Temp\\ipykernel_16168\\829830191.py:33: DeprecationWarning: Conversion of an array with ndim > 0 to a scalar is deprecated, and will error in future. Ensure you extract a single element from your array before performing this operation. (Deprecated NumPy 1.25.)\n",
      "  prediction = int(Result.predict(inp.reshape(1, -1)))\n",
      "C:\\Users\\Likhitha\\anaconda3\\Lib\\site-packages\\sklearn\\base.py:439: UserWarning: X does not have valid feature names, but LinearRegression was fitted with feature names\n",
      "  warnings.warn(\n",
      "C:\\Users\\Likhitha\\AppData\\Local\\Temp\\ipykernel_16168\\829830191.py:33: DeprecationWarning: Conversion of an array with ndim > 0 to a scalar is deprecated, and will error in future. Ensure you extract a single element from your array before performing this operation. (Deprecated NumPy 1.25.)\n",
      "  prediction = int(Result.predict(inp.reshape(1, -1)))\n",
      "C:\\Users\\Likhitha\\anaconda3\\Lib\\site-packages\\sklearn\\base.py:439: UserWarning: X does not have valid feature names, but LinearRegression was fitted with feature names\n",
      "  warnings.warn(\n",
      "C:\\Users\\Likhitha\\AppData\\Local\\Temp\\ipykernel_16168\\829830191.py:33: DeprecationWarning: Conversion of an array with ndim > 0 to a scalar is deprecated, and will error in future. Ensure you extract a single element from your array before performing this operation. (Deprecated NumPy 1.25.)\n",
      "  prediction = int(Result.predict(inp.reshape(1, -1)))\n",
      "C:\\Users\\Likhitha\\anaconda3\\Lib\\site-packages\\sklearn\\base.py:439: UserWarning: X does not have valid feature names, but LinearRegression was fitted with feature names\n",
      "  warnings.warn(\n",
      "C:\\Users\\Likhitha\\AppData\\Local\\Temp\\ipykernel_16168\\829830191.py:33: DeprecationWarning: Conversion of an array with ndim > 0 to a scalar is deprecated, and will error in future. Ensure you extract a single element from your array before performing this operation. (Deprecated NumPy 1.25.)\n",
      "  prediction = int(Result.predict(inp.reshape(1, -1)))\n",
      "C:\\Users\\Likhitha\\anaconda3\\Lib\\site-packages\\sklearn\\base.py:439: UserWarning: X does not have valid feature names, but LinearRegression was fitted with feature names\n",
      "  warnings.warn(\n",
      "C:\\Users\\Likhitha\\AppData\\Local\\Temp\\ipykernel_16168\\829830191.py:33: DeprecationWarning: Conversion of an array with ndim > 0 to a scalar is deprecated, and will error in future. Ensure you extract a single element from your array before performing this operation. (Deprecated NumPy 1.25.)\n",
      "  prediction = int(Result.predict(inp.reshape(1, -1)))\n"
     ]
    }
   ],
   "source": [
    "import tkinter as tk\n",
    "from tkinter import ttk\n",
    "\n",
    "with open('model22.pkl', 'rb') as model_file:\n",
    "    Result = pickle.load(model_file)\n",
    "def validate_input(entry, min_val, max_val, data_type):\n",
    "    try:\n",
    "        value = data_type(entry.get())\n",
    "        if not (min_val <= value <= max_val):\n",
    "            raise ValueError(f'The input field should be between {min_val} and {max_val}')\n",
    "        #entry.configure(bg='light green')  # Reset background color if validation succeeds\n",
    "        return value\n",
    "    except ValueError as ve:\n",
    "        #entry.configure(bg='red')  # Set background color to red on validation error\n",
    "        messagebox.showerror('Error', str(ve))\n",
    "        return None\n",
    "\n",
    "def predict():\n",
    "    \n",
    "\n",
    "        # Validate input values\n",
    "        fan = validate_input(entry1,1,24,int)\n",
    "        Refrigerator = validate_input(entry3,1,24,int)\n",
    "        AC = validate_input(entry4,1,24,int)\n",
    "        TV = validate_input(entry5,1,24,int)\n",
    "        MonthlyHours = validate_input(entry6 , 1, 700, int)\n",
    "# Assuming entry6 is a text entry\n",
    "\n",
    "        if any(value is None for value in [MonthlyHours]):\n",
    "            return  # Exit if any input is invalid\n",
    "\n",
    "        inp = np.array([fan,Refrigerator, AC, TV, MonthlyHours])\n",
    "        prediction = int(Result.predict(inp.reshape(1, -1)))\n",
    "\n",
    "        # Display the result\n",
    "        if prediction <= 0:  \n",
    "            text = 'Check your inputs'\n",
    "        else:\n",
    "            text = f'Total Electricity Bill: Rs.{prediction}'\n",
    "\n",
    "        t.delete('1.0', 'end')\n",
    "        t.insert('1.0', text)\n",
    "\n",
    "   \n",
    "def reset():\n",
    "    # Clear all input fields and output text, reset background colors\n",
    "    for entry in [entry1, entry3, entry4, entry5]:\n",
    "        entry.set(0)  # Set Scale widgets to their default value (e.g., 0)\n",
    "    \n",
    "    entry6.delete('0', 'end')  # Assuming entry6 is a text entry\n",
    "    entry6.configure(bg='white')\n",
    "\n",
    "    t.delete('1.0', 'end')\n",
    "    \n",
    "    # Reset the Scale value (if applicable)\n",
    "    \n",
    "# Create the main window\n",
    "root = tk.Tk()\n",
    "root.title('Electricity Bill Prediction')\n",
    "root.geometry(\"1920x1080\")\n",
    "\n",
    "\n",
    "image_0=Image.open(\"photos 34 (3).jpg\")\n",
    "background=ImageTk.PhotoImage(image_0)\n",
    "\n",
    "label=tk.Label(root,image=background)\n",
    "label.place(x=0,y=0)\n",
    "\n",
    "label1=tk.Label(root,text=\"Electricity Bill Prediction\",font=(\"Times new roman\",50,\"bold\"),fg=\"yellow\",bg=\"black\")\n",
    "label1.pack()\n",
    "\n",
    "# Feature 1\n",
    "label2 = tk.Label(text=\"Fan\", fg=\"black\", font=(\"Times new roman\", 20,\"bold\"),bg=\"orange\",width=23)\n",
    "label2.pack(pady=5)\n",
    "label2.place(x=100, y=200)\n",
    "entry1 = tk.Scale(root,from_=1, to=24, orient=tk.HORIZONTAL, length=300,width=15, font=(\"Times new roman\", 20,\"bold\"),fg=\"black\")\n",
    "entry1.pack(pady=20)\n",
    "entry1.place(x=130, y=240)\n",
    "\n",
    "# Feature 2\n",
    "\n",
    "\n",
    "# Feature 3\n",
    "label4 = tk.Label(text=\"Refrigerator\", fg=\"black\", font=(\"Times new roman\", 20,\"bold\"),bg=\"orange\",width=23)\n",
    "label4.place(x=500, y=200)\n",
    "entry3 = tk.Scale(root,from_=1, to=24, orient=tk.HORIZONTAL,length=320, width=15, font=(\"Times new roman\", 20,\"bold\"),fg=\"black\")\n",
    "entry3.place(x=510, y=240)\n",
    "\n",
    "# Feature 4\n",
    "label5 = tk.Label(text=\"AC\", fg=\"black\", font=(\"Times new roman\",20,\"bold\"),bg=\"orange\",width=23)\n",
    "label5.place(x=890, y=200)\n",
    "entry4 = tk.Scale(root,from_=1, to=24, orient=tk.HORIZONTAL,length=320, width=10, font=(\"Times new roman\", 20,\"bold\"),fg=\"black\")\n",
    "entry4.place(x=900, y=240)\n",
    "\n",
    "\n",
    "# Feature 5\n",
    "label6 = tk.Label(text=\"TV\", fg=\"black\", font=(\"Times new roman\", 20,\"bold\"),bg=\"orange\",width=23)\n",
    "label6.place(x=320, y=350)\n",
    "entry5 = tk.Scale(root, from_=1, to=24, orient=tk.HORIZONTAL,length=320,width=10, font=(\"Times new roman\", 20,\"bold\"),fg=\"black\")\n",
    "entry5.place(x=350, y=390)\n",
    "\n",
    "# Feature 6\n",
    "label7 = tk.Label(text=\"MonthlyHours[range(1-700)]\", fg=\"black\", font=(\"Times new roman\", 20,\"bold\"),bg=\"orange\",width=23)\n",
    "label7.place(x=770, y=350)\n",
    "entry6 = tk.Entry(root, width=10, font=(\"Times new roman\", 20,\"bold\"),fg=\"black\")\n",
    "entry6.place(x=870, y=390)\n",
    "\n",
    "\n",
    "# Buttons\n",
    "button1 = tk.Button(root, text='PREDICT', highlightbackground='grey',fg=\"violet\", command=predict, font=(\"Times new roman\", 20,\"bold\"),bg=\"black\")\n",
    "button1.place(x=650,y=475)\n",
    "\n",
    "t = tk.Text(root, highlightbackground='green', fg=\"dark blue\", bg=\"pink\", height=2, width=30, font=(\"Times new roman\", 20,\"bold\"))\n",
    "t.place(x=520,y=535)\n",
    "\n",
    "button2 = tk.Button(root, text='Clear', fg=\"blue\", command=reset, font=(\"Times new roman\", 20,\"bold\"))\n",
    "button2.place(x=650,y=620)\n",
    "\n",
    "# Start the main event loop\n",
    "root.mainloop()\n"
   ]
  },
  {
   "cell_type": "code",
   "execution_count": null,
   "id": "7fa4c08a-664d-4280-91ab-08aea50bde5f",
   "metadata": {},
   "outputs": [],
   "source": []
  }
 ],
 "metadata": {
  "kernelspec": {
   "display_name": "Python 3 (ipykernel)",
   "language": "python",
   "name": "python3"
  },
  "language_info": {
   "codemirror_mode": {
    "name": "ipython",
    "version": 3
   },
   "file_extension": ".py",
   "mimetype": "text/x-python",
   "name": "python",
   "nbconvert_exporter": "python",
   "pygments_lexer": "ipython3",
   "version": "3.11.7"
  }
 },
 "nbformat": 4,
 "nbformat_minor": 5
}
